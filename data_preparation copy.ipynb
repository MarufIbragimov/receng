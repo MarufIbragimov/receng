{
 "cells": [
  {
   "cell_type": "code",
   "execution_count": 1,
   "metadata": {},
   "outputs": [],
   "source": [
    "from pathlib import Path\n",
    "import numpy as np\n",
    "import pandas as pd\n",
    "import duckdb\n",
    "import polars as pl"
   ]
  },
  {
   "cell_type": "code",
   "execution_count": 2,
   "metadata": {},
   "outputs": [],
   "source": [
    "from sklearn.feature_extraction.text import TfidfVectorizer"
   ]
  },
  {
   "cell_type": "code",
   "execution_count": 3,
   "metadata": {},
   "outputs": [],
   "source": [
    "source_fol = Path('parsed_files')\n",
    "reviews_fol = Path(source_fol, 'reviews')\n",
    "meta_fol = Path(source_fol, 'meta')"
   ]
  },
  {
   "cell_type": "code",
   "execution_count": 10,
   "metadata": {},
   "outputs": [],
   "source": [
    "all_files = set(Path.rglob(source_fol, '*.parquet'))\n",
    "meta_files = set(Path.rglob(source_fol, 'meta*.parquet'))\n",
    "review_files = all_files.difference(meta_files)"
   ]
  },
  {
   "cell_type": "code",
   "execution_count": 5,
   "metadata": {},
   "outputs": [],
   "source": [
    "db_file = 'e_com_samples.duckdb'\n",
    "duck = duckdb.connect(db_file)"
   ]
  },
  {
   "cell_type": "code",
   "execution_count": null,
   "metadata": {},
   "outputs": [],
   "source": []
  },
  {
   "cell_type": "markdown",
   "metadata": {},
   "source": [
    "## Создаём таблицу продуктов"
   ]
  },
  {
   "cell_type": "code",
   "execution_count": 11,
   "metadata": {},
   "outputs": [
    {
     "data": {
      "text/plain": [
       "[WindowsPath('parsed_files/meta/meta_Grocery_and_Gourmet_Food.parquet'),\n",
       " WindowsPath('parsed_files/meta/meta_Magazine_Subscriptions.parquet'),\n",
       " WindowsPath('parsed_files/meta/meta_Industrial_and_Scientific.parquet'),\n",
       " WindowsPath('parsed_files/meta/meta_Musical_Instruments.parquet'),\n",
       " WindowsPath('parsed_files/meta/meta_Handmade_Products.parquet'),\n",
       " WindowsPath('parsed_files/meta/meta_art.parquet'),\n",
       " WindowsPath('parsed_files/meta/meta_Amazon_Fashion.parquet'),\n",
       " WindowsPath('parsed_files/meta/meta_Software.parquet'),\n",
       " WindowsPath('parsed_files/meta/meta_Baby_Products.parquet')]"
      ]
     },
     "execution_count": 11,
     "metadata": {},
     "output_type": "execute_result"
    }
   ],
   "source": [
    "mfiles = list(meta_files)[1:]+[list(meta_files)[0]]\n",
    "mfiles"
   ]
  },
  {
   "cell_type": "code",
   "execution_count": null,
   "metadata": {},
   "outputs": [],
   "source": []
  },
  {
   "cell_type": "markdown",
   "metadata": {},
   "source": [
    "## Создаём выборку продуктов"
   ]
  },
  {
   "cell_type": "code",
   "execution_count": 19,
   "metadata": {},
   "outputs": [],
   "source": [
    "products_sample = (\n",
    "    duck.query(f\"\"\"\n",
    "        select\n",
    "            main_category\n",
    "            , title\n",
    "            , parent_asin\n",
    "        from parquet_scan({[str(x) for x in mfiles]}, hive_partitioning=True)\n",
    "    \"\"\").to_df()\n",
    "    .groupby(['main_category'], as_index=False).sample(frac=.2)\n",
    ")"
   ]
  },
  {
   "cell_type": "code",
   "execution_count": 21,
   "metadata": {},
   "outputs": [
    {
     "data": {
      "text/html": [
       "<div>\n",
       "<style scoped>\n",
       "    .dataframe tbody tr th:only-of-type {\n",
       "        vertical-align: middle;\n",
       "    }\n",
       "\n",
       "    .dataframe tbody tr th {\n",
       "        vertical-align: top;\n",
       "    }\n",
       "\n",
       "    .dataframe thead th {\n",
       "        text-align: right;\n",
       "    }\n",
       "</style>\n",
       "<table border=\"1\" class=\"dataframe\">\n",
       "  <thead>\n",
       "    <tr style=\"text-align: right;\">\n",
       "      <th></th>\n",
       "      <th>main_category</th>\n",
       "      <th>title</th>\n",
       "      <th>parent_asin</th>\n",
       "    </tr>\n",
       "  </thead>\n",
       "  <tbody>\n",
       "  </tbody>\n",
       "</table>\n",
       "</div>"
      ],
      "text/plain": [
       "Empty DataFrame\n",
       "Columns: [main_category, title, parent_asin]\n",
       "Index: []"
      ]
     },
     "execution_count": 21,
     "metadata": {},
     "output_type": "execute_result"
    }
   ],
   "source": [
    "products_sample.query(\"parent_asin.duplicated(keep=False)\")"
   ]
  },
  {
   "cell_type": "code",
   "execution_count": 20,
   "metadata": {},
   "outputs": [
    {
     "data": {
      "text/html": [
       "<div>\n",
       "<style scoped>\n",
       "    .dataframe tbody tr th:only-of-type {\n",
       "        vertical-align: middle;\n",
       "    }\n",
       "\n",
       "    .dataframe tbody tr th {\n",
       "        vertical-align: top;\n",
       "    }\n",
       "\n",
       "    .dataframe thead th {\n",
       "        text-align: right;\n",
       "    }\n",
       "</style>\n",
       "<table border=\"1\" class=\"dataframe\">\n",
       "  <thead>\n",
       "    <tr style=\"text-align: right;\">\n",
       "      <th></th>\n",
       "      <th>main_category</th>\n",
       "      <th>title</th>\n",
       "      <th>parent_asin</th>\n",
       "    </tr>\n",
       "  </thead>\n",
       "  <tbody>\n",
       "    <tr>\n",
       "      <th>2568457</th>\n",
       "      <td>AMAZON FASHION</td>\n",
       "      <td>HENGAO Men's Looks Dirty Straight Slim Fit Mot...</td>\n",
       "      <td>B07DMJ6G9K</td>\n",
       "    </tr>\n",
       "    <tr>\n",
       "      <th>2402423</th>\n",
       "      <td>AMAZON FASHION</td>\n",
       "      <td>6 Pairs Leather Teardrop Earrings Lightweight ...</td>\n",
       "      <td>B07RSY81H1</td>\n",
       "    </tr>\n",
       "    <tr>\n",
       "      <th>2922494</th>\n",
       "      <td>AMAZON FASHION</td>\n",
       "      <td>ZEFFFKA 6-Pack Women’s Comfort Casual Low-Cut ...</td>\n",
       "      <td>B0886H2RK8</td>\n",
       "    </tr>\n",
       "    <tr>\n",
       "      <th>2304458</th>\n",
       "      <td>AMAZON FASHION</td>\n",
       "      <td>Statement Drop Earrings Raffia Handmade Earrin...</td>\n",
       "      <td>B07R2BHRJX</td>\n",
       "    </tr>\n",
       "    <tr>\n",
       "      <th>2599374</th>\n",
       "      <td>AMAZON FASHION</td>\n",
       "      <td>DRESSTELLS Women's Vintage Rockabilly Net Pett...</td>\n",
       "      <td>B015MZVAMY</td>\n",
       "    </tr>\n",
       "    <tr>\n",
       "      <th>...</th>\n",
       "      <td>...</td>\n",
       "      <td>...</td>\n",
       "      <td>...</td>\n",
       "    </tr>\n",
       "    <tr>\n",
       "      <th>1352492</th>\n",
       "      <td>Video Games</td>\n",
       "      <td>THRONMAX Fireball Cardioid USB Microphone|Podc...</td>\n",
       "      <td>B08J8MFZK1</td>\n",
       "    </tr>\n",
       "    <tr>\n",
       "      <th>1344185</th>\n",
       "      <td>Video Games</td>\n",
       "      <td>LIPOVOLT® SET OF Gold Sealed Humbucker Pickup ...</td>\n",
       "      <td>B01NBROYZM</td>\n",
       "    </tr>\n",
       "    <tr>\n",
       "      <th>489857</th>\n",
       "      <td>Video Games</td>\n",
       "      <td>Eyewitness DVD: Human Machine</td>\n",
       "      <td>0756645042</td>\n",
       "    </tr>\n",
       "    <tr>\n",
       "      <th>2190443</th>\n",
       "      <td>Video Games</td>\n",
       "      <td>Mobile Suit Gundam accessories set for PlaySta...</td>\n",
       "      <td>B018HORBLG</td>\n",
       "    </tr>\n",
       "    <tr>\n",
       "      <th>1433305</th>\n",
       "      <td>Video Games</td>\n",
       "      <td>HTC Tilt2 Extended Battery with HTC Logo Door ...</td>\n",
       "      <td>B002XVFOVY</td>\n",
       "    </tr>\n",
       "  </tbody>\n",
       "</table>\n",
       "<p>643123 rows × 3 columns</p>\n",
       "</div>"
      ],
      "text/plain": [
       "          main_category                                              title  \\\n",
       "2568457  AMAZON FASHION  HENGAO Men's Looks Dirty Straight Slim Fit Mot...   \n",
       "2402423  AMAZON FASHION  6 Pairs Leather Teardrop Earrings Lightweight ...   \n",
       "2922494  AMAZON FASHION  ZEFFFKA 6-Pack Women’s Comfort Casual Low-Cut ...   \n",
       "2304458  AMAZON FASHION  Statement Drop Earrings Raffia Handmade Earrin...   \n",
       "2599374  AMAZON FASHION  DRESSTELLS Women's Vintage Rockabilly Net Pett...   \n",
       "...                 ...                                                ...   \n",
       "1352492     Video Games  THRONMAX Fireball Cardioid USB Microphone|Podc...   \n",
       "1344185     Video Games  LIPOVOLT® SET OF Gold Sealed Humbucker Pickup ...   \n",
       "489857      Video Games                      Eyewitness DVD: Human Machine   \n",
       "2190443     Video Games  Mobile Suit Gundam accessories set for PlaySta...   \n",
       "1433305     Video Games  HTC Tilt2 Extended Battery with HTC Logo Door ...   \n",
       "\n",
       "        parent_asin  \n",
       "2568457  B07DMJ6G9K  \n",
       "2402423  B07RSY81H1  \n",
       "2922494  B0886H2RK8  \n",
       "2304458  B07R2BHRJX  \n",
       "2599374  B015MZVAMY  \n",
       "...             ...  \n",
       "1352492  B08J8MFZK1  \n",
       "1344185  B01NBROYZM  \n",
       "489857   0756645042  \n",
       "2190443  B018HORBLG  \n",
       "1433305  B002XVFOVY  \n",
       "\n",
       "[643123 rows x 3 columns]"
      ]
     },
     "execution_count": 20,
     "metadata": {},
     "output_type": "execute_result"
    }
   ],
   "source": [
    "products_sample"
   ]
  },
  {
   "cell_type": "markdown",
   "metadata": {},
   "source": [
    "### Создаём таблицу items"
   ]
  },
  {
   "cell_type": "code",
   "execution_count": 22,
   "metadata": {},
   "outputs": [],
   "source": [
    "duck.query(\"\"\"\n",
    "    create table items(\n",
    "        item_id bigint\n",
    "        , parent_asin varchar\n",
    "        , title varchar\n",
    "        , image varchar\n",
    "        , primary key (item_id)\n",
    "    )\n",
    "\"\"\")"
   ]
  },
  {
   "cell_type": "code",
   "execution_count": 23,
   "metadata": {},
   "outputs": [],
   "source": [
    "duck.query(f\"\"\"\n",
    "    create sequence if not exists seq_1;\n",
    "    insert into items\n",
    "    with\n",
    "    meta as (\n",
    "        select\n",
    "           parent_asin\n",
    "           , title\n",
    "           , images\n",
    "        from parquet_scan({[str(x) for x in mfiles]}, hive_partitioning=True)\n",
    "        where\n",
    "            parent_asin in (select parent_asin from products_sample)\n",
    "    )\n",
    "    select\n",
    "        nextval('seq_1') as item_id\n",
    "        , parent_asin\n",
    "        , m.title\n",
    "        , m.images as image\n",
    "    from meta m\n",
    "\"\"\")"
   ]
  },
  {
   "cell_type": "code",
   "execution_count": 24,
   "metadata": {},
   "outputs": [
    {
     "data": {
      "text/plain": [
       "┌─────────┬─────────────┬────────────────────────────────────────┬─────────────────────────────────────────────────────┐\n",
       "│ item_id │ parent_asin │                 title                  │                        image                        │\n",
       "│  int64  │   varchar   │                varchar                 │                       varchar                       │\n",
       "├─────────┼─────────────┼────────────────────────────────────────┼─────────────────────────────────────────────────────┤\n",
       "│     679 │ B081734SNF  │ Epstein Didn't Kill Himself Holiday …  │ https://m.media-amazon.com/images/I/61EexBYKY2L.jpg │\n",
       "│     680 │ B0B1ZJTL4B  │ Meissa Sterling Silver Ring for Wome…  │ https://m.media-amazon.com/images/I/41RLU-8-pFL.jpg │\n",
       "│     681 │ B09BLKBW26  │ Zoe Pendant Necklace Mom Gift Person…  │ https://m.media-amazon.com/images/I/31wqWE-Gv1L.jpg │\n",
       "│     682 │ B07DFR8LBJ  │ Football Wreath - Sports Wreaths for…  │ https://m.media-amazon.com/images/I/51VlezKxNfL.jpg │\n",
       "│     683 │ B07MFW4517  │ Patchouli Lavender Roll-On Perfume A…  │ https://m.media-amazon.com/images/I/31ee-P++HCL.jpg │\n",
       "│     684 │ B07S31TX8Z  │ 10 Puppy Dogs Yellow Water Bottle La…  │ https://m.media-amazon.com/images/I/41Ndi-sL1TL.jpg │\n",
       "│     685 │ B083YZKMDB  │ Taco Badge Reel, Funny Taco Badge Re…  │ https://m.media-amazon.com/images/I/41YO0zNUqUL.jpg │\n",
       "│     686 │ B06ZZCWKCV  │ Vertical Outdoor/Porch/Patio Welcome…  │ https://m.media-amazon.com/images/I/51b4bPhy-JL.jpg │\n",
       "│     687 │ B097B8WH61  │ 14K Rose Gold Fill Twisted Square Cu…  │ https://m.media-amazon.com/images/I/21pyD0YUUdL.jpg │\n",
       "│     688 │ B075CX35ZP  │ Personalized Name Plate Bar Birthsto…  │ https://m.media-amazon.com/images/I/31VZRwbno9L.jpg │\n",
       "│      ·  │     ·       │                   ·                    │                          ·                          │\n",
       "│      ·  │     ·       │                   ·                    │                          ·                          │\n",
       "│      ·  │     ·       │                   ·                    │                          ·                          │\n",
       "│  116293 │ B06Y4XH94N  │ Princess Giclee from a Pencil drawin…  │ https://m.media-amazon.com/images/I/51dDonYce2L.jpg │\n",
       "│  116294 │ B01IWKZ6R6  │ Original by BoxColors Xlarge 30\"x 70…  │ https://m.media-amazon.com/images/I/51b7pROlxvL.jpg │\n",
       "│  116295 │ B0841WQ3JN  │ Circle Metal Monogram, Custom Name S…  │ https://m.media-amazon.com/images/I/51iPCvc3ttL.jpg │\n",
       "│  116296 │ B07RGGF1CB  │ 2 Magnolia 3\" Sola Flower with Rope …  │ https://m.media-amazon.com/images/I/31em4EOy1IL.jpg │\n",
       "│  116297 │ B08248HDN3  │ Pug Dictionary Wall Art Print: Uniqu…  │ https://m.media-amazon.com/images/I/51MWD-5SmtL.jpg │\n",
       "│  116298 │ B072C4P31H  │ Heart and Lungs With Flowers, Butter…  │ https://m.media-amazon.com/images/I/517CKqQOZOL.jpg │\n",
       "│  116299 │ B078SGQFR1  │ White Floral Scents - Silk Powder Re…  │ https://m.media-amazon.com/images/I/41-O8A1AGpL.jpg │\n",
       "│  116300 │ B071DS2VDN  │ American made cabinet hardware, Wrou…  │ https://m.media-amazon.com/images/I/31w8rn-reTL.jpg │\n",
       "│  116301 │ B07YR81H79  │ Sterling Silver Hammered Bar Earring…  │ https://m.media-amazon.com/images/I/31X6NJr6RrL.jpg │\n",
       "│  116302 │ B07QSQ1T2B  │ Photo Guestbook Sign, Wedding Sign, …  │ https://m.media-amazon.com/images/I/41xBCJhI5fL.jpg │\n",
       "├─────────┴─────────────┴────────────────────────────────────────┴─────────────────────────────────────────────────────┤\n",
       "│ ? rows (>9999 rows, 20 shown)                                                                              4 columns │\n",
       "└──────────────────────────────────────────────────────────────────────────────────────────────────────────────────────┘"
      ]
     },
     "execution_count": 24,
     "metadata": {},
     "output_type": "execute_result"
    }
   ],
   "source": [
    "duck.query(\"\"\"\n",
    "    select * from items\n",
    "\"\"\")"
   ]
  },
  {
   "cell_type": "code",
   "execution_count": 25,
   "metadata": {},
   "outputs": [
    {
     "data": {
      "text/plain": [
       "┌────────────────────┬─────────────────────────────┐\n",
       "│ count(parent_asin) │ count(DISTINCT parent_asin) │\n",
       "│       int64        │            int64            │\n",
       "├────────────────────┼─────────────────────────────┤\n",
       "│             643123 │                      643123 │\n",
       "└────────────────────┴─────────────────────────────┘"
      ]
     },
     "execution_count": 25,
     "metadata": {},
     "output_type": "execute_result"
    }
   ],
   "source": [
    "duck.query(\"select count(parent_asin), count(distinct parent_asin) from items\")"
   ]
  },
  {
   "cell_type": "markdown",
   "metadata": {},
   "source": [
    "### Создаём таблицу stores"
   ]
  },
  {
   "cell_type": "code",
   "execution_count": 26,
   "metadata": {},
   "outputs": [],
   "source": [
    "duck.query(\"\"\"\n",
    "    create table stores(\n",
    "        store_id bigint\n",
    "        , store varchar\n",
    "        , primary key (store_id)\n",
    "    )\n",
    "\"\"\")"
   ]
  },
  {
   "cell_type": "code",
   "execution_count": 27,
   "metadata": {},
   "outputs": [],
   "source": [
    "duck.query(f\"\"\"\n",
    "    create sequence if not exists seq_1;\n",
    "    insert into stores\n",
    "    with\n",
    "    store_list as (\n",
    "        select distinct store\n",
    "        from parquet_scan({[str(x) for x in mfiles]}, hive_partitioning=True) \n",
    "        where\n",
    "            parent_asin in (select parent_asin from products_sample)\n",
    "    )\n",
    "    select\n",
    "        nextval('seq_1') as store_id\n",
    "        , store\n",
    "    from store_list\n",
    "\"\"\")"
   ]
  },
  {
   "cell_type": "code",
   "execution_count": 28,
   "metadata": {},
   "outputs": [
    {
     "data": {
      "text/plain": [
       "┌──────────────┬───────────────────────┐\n",
       "│ count(store) │ count(DISTINCT store) │\n",
       "│    int64     │         int64         │\n",
       "├──────────────┼───────────────────────┤\n",
       "│       161477 │                161477 │\n",
       "└──────────────┴───────────────────────┘"
      ]
     },
     "execution_count": 28,
     "metadata": {},
     "output_type": "execute_result"
    }
   ],
   "source": [
    "duck.query(\"select count(store), count(distinct store) from stores\")"
   ]
  },
  {
   "cell_type": "code",
   "execution_count": null,
   "metadata": {},
   "outputs": [],
   "source": []
  },
  {
   "cell_type": "markdown",
   "metadata": {},
   "source": [
    "### Создаём таблицу categories"
   ]
  },
  {
   "cell_type": "code",
   "execution_count": 29,
   "metadata": {},
   "outputs": [],
   "source": [
    "duck.query(\"\"\"\n",
    "    create table categories(\n",
    "        category_id bigint\n",
    "        , category varchar\n",
    "        , primary key (category_id)\n",
    "    )\n",
    "\"\"\")"
   ]
  },
  {
   "cell_type": "code",
   "execution_count": 30,
   "metadata": {},
   "outputs": [],
   "source": [
    "duck.query(f\"\"\"\n",
    "    create sequence if not exists seq_1;\n",
    "    insert into categories\n",
    "    with\n",
    "    category_list as (\n",
    "        select distinct main_category as category\n",
    "        from parquet_scan({[str(x) for x in mfiles]}, hive_partitioning=True) \n",
    "        where\n",
    "            parent_asin in (select parent_asin from products_sample)\n",
    "    )\n",
    "    select\n",
    "        nextval('seq_1') as category_id\n",
    "        , category\n",
    "    from category_list\n",
    "\"\"\")"
   ]
  },
  {
   "cell_type": "code",
   "execution_count": 31,
   "metadata": {},
   "outputs": [
    {
     "data": {
      "text/plain": [
       "┌─────────────────┬──────────────────────────┐\n",
       "│ count(category) │ count(DISTINCT category) │\n",
       "│      int64      │          int64           │\n",
       "├─────────────────┼──────────────────────────┤\n",
       "│              42 │                       42 │\n",
       "└─────────────────┴──────────────────────────┘"
      ]
     },
     "execution_count": 31,
     "metadata": {},
     "output_type": "execute_result"
    }
   ],
   "source": [
    "duck.query(\"select count(category), count(distinct category) from categories\")"
   ]
  },
  {
   "cell_type": "code",
   "execution_count": null,
   "metadata": {},
   "outputs": [],
   "source": []
  },
  {
   "cell_type": "markdown",
   "metadata": {},
   "source": [
    "### Создаём таблицу items_info"
   ]
  },
  {
   "cell_type": "code",
   "execution_count": 32,
   "metadata": {},
   "outputs": [],
   "source": [
    "duck.query(\"\"\"\n",
    "    create table if not exists items_info(\n",
    "        item_id bigint\n",
    "        , category_id bigint\n",
    "        , store_id bigint\n",
    "        , price double\n",
    "        , has_image bigint\n",
    "        , has_video bigint\n",
    "        , foreign key (item_id) references items(item_id)\n",
    "--        , foreign key (category_id) references categories(category_id)\n",
    "--        , foreign key (store_id) references stores(store_id)\n",
    "    )\n",
    "\"\"\")"
   ]
  },
  {
   "cell_type": "code",
   "execution_count": 33,
   "metadata": {},
   "outputs": [],
   "source": [
    "info = duck.query(f\"\"\"\n",
    "    with\n",
    "    meta as (\n",
    "        select\n",
    "           parent_asin\n",
    "           , main_category as category\n",
    "           , store\n",
    "           , price\n",
    "           , has_image\n",
    "           , videos as has_video\n",
    "        from parquet_scan({[str(x) for x in mfiles]}, hive_partitioning=True)\n",
    "        where\n",
    "            parent_asin in (select parent_asin from products_sample)\n",
    "    )\n",
    "    select\n",
    "        i.item_id\n",
    "        , c.category_id\n",
    "        , s.store_id\n",
    "        , m.price\n",
    "        , m.has_image\n",
    "        , m.has_video\n",
    "    from meta m\n",
    "        left join items i on i.parent_asin = m.parent_asin\n",
    "        left join categories c on c.category = m.category\n",
    "        left join stores s on s.store = m.store \n",
    "\"\"\").pl()"
   ]
  },
  {
   "cell_type": "code",
   "execution_count": 34,
   "metadata": {},
   "outputs": [
    {
     "data": {
      "text/plain": [
       "29.593168258666992"
      ]
     },
     "execution_count": 34,
     "metadata": {},
     "output_type": "execute_result"
    }
   ],
   "source": [
    "info.estimated_size(\"mb\")"
   ]
  },
  {
   "cell_type": "code",
   "execution_count": 35,
   "metadata": {},
   "outputs": [],
   "source": [
    "duck.query(\"\"\"\n",
    "    insert into items_info\n",
    "    select *\n",
    "    from info\n",
    "\"\"\")"
   ]
  },
  {
   "cell_type": "code",
   "execution_count": null,
   "metadata": {},
   "outputs": [],
   "source": []
  },
  {
   "cell_type": "markdown",
   "metadata": {},
   "source": [
    "### Создаём матрицу наиболее часто встречающихся слов в текстовых метаданных"
   ]
  },
  {
   "cell_type": "code",
   "execution_count": 12,
   "metadata": {},
   "outputs": [],
   "source": [
    "duck.query(f\"\"\"\n",
    "    create table meta as\n",
    "    select \n",
    "        i.item_id\n",
    "        , t.categories\n",
    "        , t.features\n",
    "        , t.description\n",
    "        , t.details \n",
    "    from parquet_scan({[str(x) for x in mfiles]}, hive_partitioning=True) t\n",
    "        inner join items i on t.parent_asin=i.parent_asin\n",
    "\"\"\")"
   ]
  },
  {
   "cell_type": "code",
   "execution_count": 36,
   "metadata": {},
   "outputs": [],
   "source": [
    "vectorizer = TfidfVectorizer(min_df=.1, max_df=.8)"
   ]
  },
  {
   "cell_type": "code",
   "execution_count": 37,
   "metadata": {},
   "outputs": [],
   "source": [
    "meta = duck.query(f\"\"\"\n",
    "    select \n",
    "        i.item_id\n",
    "        , concat_ws(';', t.categories, t.features, t.description, t.details) as txt \n",
    "    from parquet_scan({[str(x) for x in mfiles]}, hive_partitioning=True) t\n",
    "        inner join items i on t.parent_asin=i.parent_asin\n",
    "\"\"\").pl()"
   ]
  },
  {
   "cell_type": "code",
   "execution_count": 38,
   "metadata": {},
   "outputs": [
    {
     "data": {
      "text/plain": [
       "521.010910987854"
      ]
     },
     "execution_count": 38,
     "metadata": {},
     "output_type": "execute_result"
    }
   ],
   "source": [
    "meta.estimated_size('mb')"
   ]
  },
  {
   "cell_type": "code",
   "execution_count": 39,
   "metadata": {},
   "outputs": [],
   "source": [
    "vectorized_data = vectorizer.fit_transform(\n",
    "    meta.to_pandas()['txt'].fillna('')\n",
    ")"
   ]
  },
  {
   "cell_type": "code",
   "execution_count": 40,
   "metadata": {},
   "outputs": [],
   "source": [
    "tfidf_df=pd.DataFrame(\n",
    "    vectorized_data.toarray(),\n",
    "    columns = vectorizer.get_feature_names_out(),\n",
    "    index = meta.select('item_id').to_series().to_numpy()\n",
    ").reset_index(names='item_id')"
   ]
  },
  {
   "cell_type": "code",
   "execution_count": 41,
   "metadata": {},
   "outputs": [],
   "source": [
    "del vectorized_data\n",
    "del meta"
   ]
  },
  {
   "cell_type": "code",
   "execution_count": 42,
   "metadata": {},
   "outputs": [],
   "source": [
    "duck.query(\"\"\"\n",
    "    create table tfidf as\n",
    "    select *\n",
    "    from tfidf_df\n",
    "\"\"\")"
   ]
  },
  {
   "cell_type": "code",
   "execution_count": null,
   "metadata": {},
   "outputs": [],
   "source": []
  },
  {
   "cell_type": "markdown",
   "metadata": {},
   "source": [
    "## Создаём таблицу users"
   ]
  },
  {
   "cell_type": "code",
   "execution_count": 43,
   "metadata": {},
   "outputs": [],
   "source": [
    "duck.query(\"\"\"\n",
    "    create table if not exists users(\n",
    "        user_id bigint\n",
    "        , user varchar\n",
    "        , primary key (user_id)\n",
    "    )\n",
    "\"\"\")"
   ]
  },
  {
   "cell_type": "code",
   "execution_count": 44,
   "metadata": {},
   "outputs": [
    {
     "data": {
      "application/vnd.jupyter.widget-view+json": {
       "model_id": "f27264d48c424eefb0607866bcf4d2c0",
       "version_major": 2,
       "version_minor": 0
      },
      "text/plain": [
       "FloatProgress(value=0.0, layout=Layout(width='auto'), style=ProgressStyle(bar_color='black'))"
      ]
     },
     "metadata": {},
     "output_type": "display_data"
    }
   ],
   "source": [
    "duck.query(f\"\"\"\n",
    "    create sequence if not exists seq_1;\n",
    "    insert into users\n",
    "    with\n",
    "    u as (\n",
    "        select distinct\n",
    "           user_id as user\n",
    "        from parquet_scan({[str(x) for x in review_files]}, hive_partitioning=True)\n",
    "        where\n",
    "            parent_asin in (select parent_asin from products_sample)\n",
    "    )\n",
    "    select\n",
    "        nextval('seq_1') as user_id\n",
    "        , user\n",
    "    from u\n",
    "\"\"\")"
   ]
  },
  {
   "cell_type": "code",
   "execution_count": 45,
   "metadata": {},
   "outputs": [
    {
     "data": {
      "text/plain": [
       "┌───────────────┬────────────────────────┐\n",
       "│ count(\"user\") │ count(DISTINCT \"user\") │\n",
       "│     int64     │         int64          │\n",
       "├───────────────┼────────────────────────┤\n",
       "│       6123376 │                6123376 │\n",
       "└───────────────┴────────────────────────┘"
      ]
     },
     "execution_count": 45,
     "metadata": {},
     "output_type": "execute_result"
    }
   ],
   "source": [
    "duck.query(\"select count(user), count(distinct user) from users\")"
   ]
  },
  {
   "cell_type": "markdown",
   "metadata": {},
   "source": [
    "### Создание таблицы reviews"
   ]
  },
  {
   "cell_type": "code",
   "execution_count": 46,
   "metadata": {},
   "outputs": [],
   "source": [
    "duck.query(\"\"\"\n",
    "    create table if not exists reviews (\n",
    "        user_id bigint\n",
    "        , item_id bigint\n",
    "        , review_timestamp timestamp\n",
    "        , rating double\n",
    "        , helpful_vote bigint\n",
    "        , verified_purchase boolean\n",
    "        , foreign key (user_id) references users(user_id)\n",
    "        --, foreign key (item_id) references items(item_id)\n",
    "    )\n",
    "\"\"\")"
   ]
  },
  {
   "cell_type": "code",
   "execution_count": 47,
   "metadata": {},
   "outputs": [
    {
     "data": {
      "application/vnd.jupyter.widget-view+json": {
       "model_id": "926031270df44e02a1184c5bf2376220",
       "version_major": 2,
       "version_minor": 0
      },
      "text/plain": [
       "FloatProgress(value=0.0, layout=Layout(width='auto'), style=ProgressStyle(bar_color='black'))"
      ]
     },
     "metadata": {},
     "output_type": "display_data"
    }
   ],
   "source": [
    "reviews_df = duck.query(f\"\"\"\n",
    "    with\n",
    "    r as (\n",
    "        select\n",
    "            user_id as user\n",
    "            , parent_asin\n",
    "            , epoch_ms(timestamp) as review_timestamp\n",
    "            , rating\n",
    "            , helpful_vote\n",
    "            , verified_purchase\n",
    "        from parquet_scan({[str(x) for x in review_files]}, hive_partitioning=True)\n",
    "        where\n",
    "            parent_asin in (select parent_asin from products_sample)\n",
    "    )\n",
    "    select\n",
    "        u.user_id\n",
    "        , i.item_id\n",
    "        , review_timestamp\n",
    "        , rating\n",
    "        , helpful_vote\n",
    "        , verified_purchase\n",
    "    from r\n",
    "        left join users u on r.user=u.user\n",
    "        left join items i on r.parent_asin=i.parent_asin\n",
    "\"\"\").pl()"
   ]
  },
  {
   "cell_type": "code",
   "execution_count": 48,
   "metadata": {},
   "outputs": [
    {
     "data": {
      "text/plain": [
       "348.7381992340088"
      ]
     },
     "execution_count": 48,
     "metadata": {},
     "output_type": "execute_result"
    }
   ],
   "source": [
    "reviews_df.estimated_size(\"mb\")"
   ]
  },
  {
   "cell_type": "code",
   "execution_count": 49,
   "metadata": {},
   "outputs": [
    {
     "data": {
      "application/vnd.jupyter.widget-view+json": {
       "model_id": "b037bf5408344d068a6d11be00ea85e1",
       "version_major": 2,
       "version_minor": 0
      },
      "text/plain": [
       "FloatProgress(value=0.0, layout=Layout(width='auto'), style=ProgressStyle(bar_color='black'))"
      ]
     },
     "metadata": {},
     "output_type": "display_data"
    }
   ],
   "source": [
    "duck.query(f\"\"\"\n",
    "    insert into reviews\n",
    "    select\n",
    "        user_id\n",
    "        , item_id\n",
    "        , review_timestamp\n",
    "        , rating\n",
    "        , helpful_vote\n",
    "        , verified_purchase\n",
    "    from reviews_df\n",
    "\"\"\")"
   ]
  },
  {
   "cell_type": "code",
   "execution_count": 50,
   "metadata": {},
   "outputs": [
    {
     "data": {
      "text/plain": [
       "┌─────────┬─────────┬─────────────────────────┬────────┬──────────────┬───────────────────┐\n",
       "│ user_id │ item_id │    review_timestamp     │ rating │ helpful_vote │ verified_purchase │\n",
       "│  int64  │  int64  │        timestamp        │ double │    int64     │      boolean      │\n",
       "├─────────┼─────────┼─────────────────────────┼────────┼──────────────┼───────────────────┤\n",
       "│ 5902887 │   33286 │ 2022-11-20 11:40:49.07  │    5.0 │            3 │ true              │\n",
       "│ 5902887 │   94515 │ 2022-11-20 11:36:13.763 │    5.0 │            0 │ true              │\n",
       "│ 3125335 │   49955 │ 2020-07-20 05:36:05.496 │    5.0 │            0 │ true              │\n",
       "│ 2589724 │  103627 │ 2018-10-08 02:19:23.123 │    5.0 │           56 │ true              │\n",
       "│ 3222923 │  111660 │ 2022-06-05 23:16:30.286 │    5.0 │            1 │ true              │\n",
       "│ 3222923 │   59394 │ 2017-02-06 04:06:04     │    3.0 │            0 │ true              │\n",
       "│ 3222923 │  117090 │ 2014-03-24 12:57:14     │    3.0 │            0 │ false             │\n",
       "│ 3458853 │   78599 │ 2021-05-16 00:32:06.074 │    3.0 │            0 │ true              │\n",
       "│ 3458853 │   48540 │ 2020-11-21 20:37:05.459 │    2.0 │            0 │ true              │\n",
       "│ 2825233 │   10847 │ 2022-06-27 06:00:32.211 │    5.0 │            3 │ true              │\n",
       "│    ·    │     ·   │          ·              │     ·  │            · │  ·                │\n",
       "│    ·    │     ·   │          ·              │     ·  │            · │  ·                │\n",
       "│    ·    │     ·   │          ·              │     ·  │            · │  ·                │\n",
       "│ 3277302 │   46967 │ 2014-07-06 16:07:48     │    2.0 │            0 │ true              │\n",
       "│ 3277302 │   62255 │ 2014-07-06 16:06:24     │    2.0 │            3 │ true              │\n",
       "│ 3277302 │    3330 │ 2014-07-06 16:04:13     │    2.0 │           10 │ true              │\n",
       "│ 3277302 │    6845 │ 2014-07-06 16:00:28     │    3.0 │            0 │ true              │\n",
       "│ 3277302 │   92637 │ 2014-07-06 16:00:26     │    3.0 │            0 │ true              │\n",
       "│ 5903303 │    3450 │ 2016-01-25 12:27:14     │    5.0 │            0 │ true              │\n",
       "│ 3459597 │   92557 │ 2016-01-12 15:49:33     │    2.0 │            0 │ true              │\n",
       "│ 3459597 │  103627 │ 2015-12-28 15:08:29     │    3.0 │            6 │ true              │\n",
       "│ 3459597 │    4734 │ 2015-12-28 15:06:50     │    5.0 │            0 │ true              │\n",
       "│ 3459597 │  103547 │ 2015-02-20 23:31:31     │    4.0 │            0 │ true              │\n",
       "├─────────┴─────────┴─────────────────────────┴────────┴──────────────┴───────────────────┤\n",
       "│ ? rows (>9999 rows, 20 shown)                                                 6 columns │\n",
       "└─────────────────────────────────────────────────────────────────────────────────────────┘"
      ]
     },
     "execution_count": 50,
     "metadata": {},
     "output_type": "execute_result"
    }
   ],
   "source": [
    "duck.query(\"select * from reviews\")"
   ]
  },
  {
   "cell_type": "code",
   "execution_count": null,
   "metadata": {},
   "outputs": [],
   "source": []
  },
  {
   "cell_type": "code",
   "execution_count": 51,
   "metadata": {},
   "outputs": [
    {
     "data": {
      "text/plain": [
       "┌────────────┐\n",
       "│    name    │\n",
       "│  varchar   │\n",
       "├────────────┤\n",
       "│ categories │\n",
       "│ items      │\n",
       "│ items_info │\n",
       "│ reviews    │\n",
       "│ stores     │\n",
       "│ tfidf      │\n",
       "│ users      │\n",
       "└────────────┘"
      ]
     },
     "execution_count": 51,
     "metadata": {},
     "output_type": "execute_result"
    }
   ],
   "source": [
    "duck.query(\"show tables\")"
   ]
  },
  {
   "cell_type": "code",
   "execution_count": 52,
   "metadata": {},
   "outputs": [
    {
     "data": {
      "text/plain": [
       "┌─────────┬──────────────────────────────┐\n",
       "│ user_id │             user             │\n",
       "│  int64  │           varchar            │\n",
       "├─────────┼──────────────────────────────┤\n",
       "│  939796 │ AG56OBEZPGB6YIRT62XAWELAVGEQ │\n",
       "│  939797 │ AFED3JM4OIBL5VNAJNRYCEUTSNOA │\n",
       "│  939798 │ AECQTTS3VETRQHG4JBEX6ZSWU4KQ │\n",
       "│  939799 │ AEHO6QXUGNJ2UE4WD7DV7UP4HKCQ │\n",
       "│  939800 │ AHEOXRDBZB6PZZRCXXMBXVRR7ZTQ │\n",
       "│  939801 │ AH7DFKIRWIBGLJ2TXK4VBSFQPLFQ │\n",
       "│  939802 │ AHI4GJG4EPRJFHLEWL2DBVVAKOTQ │\n",
       "│  939803 │ AFMGEZWJU2NJEPTNCTHG3732S62A │\n",
       "│  939804 │ AG7DVK5PSLSKAG6ODWX432NJ2KGA │\n",
       "│  939805 │ AF2LOWPJKXPBY5FJG2SGIBLPF3DQ │\n",
       "│     ·   │              ·               │\n",
       "│     ·   │              ·               │\n",
       "│     ·   │              ·               │\n",
       "│ 1063971 │ AH5GML4UXVCDLHFM4K4UWOFUJJVA │\n",
       "│ 1063972 │ AF7SBDISIYAFIWU7FLRILQTN5WKA │\n",
       "│ 1063973 │ AFSL7SB4BO33CQO6LHQUPVDNGO4A │\n",
       "│ 1063974 │ AHJU5TFSSRQHV6PUK6BM6P3JPTAQ │\n",
       "│ 1063975 │ AE2EK4POH4NJC6GYSXMNWWJU7NYQ │\n",
       "│ 1063976 │ AGXWDO5ZY3JEAYTI4NGY6BLDV6MA │\n",
       "│ 1063977 │ AFK63WQVRYO4JY3SOLLAJKMXHP3Q │\n",
       "│ 1063978 │ AFKJBW52L42UOVSEX57X6WA3WDXQ │\n",
       "│ 1063979 │ AE7PNISVIMQM5DQ5XERLTDU3XE3Q │\n",
       "│ 1063980 │ AEEJQ6MZWA7D4VUFRX6JEDBVFURQ │\n",
       "├─────────┴──────────────────────────────┤\n",
       "│     ? rows (>9999 rows, 20 shown)      │\n",
       "└────────────────────────────────────────┘"
      ]
     },
     "execution_count": 52,
     "metadata": {},
     "output_type": "execute_result"
    }
   ],
   "source": [
    "duck.query(\"select * from users\")"
   ]
  },
  {
   "cell_type": "code",
   "execution_count": 13,
   "metadata": {},
   "outputs": [],
   "source": [
    "duck.close()"
   ]
  }
 ],
 "metadata": {
  "kernelspec": {
   "display_name": "env_1",
   "language": "python",
   "name": "python3"
  },
  "language_info": {
   "codemirror_mode": {
    "name": "ipython",
    "version": 3
   },
   "file_extension": ".py",
   "mimetype": "text/x-python",
   "name": "python",
   "nbconvert_exporter": "python",
   "pygments_lexer": "ipython3",
   "version": "3.11.4"
  }
 },
 "nbformat": 4,
 "nbformat_minor": 2
}
