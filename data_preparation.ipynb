{
 "cells": [
  {
   "cell_type": "code",
   "execution_count": 1,
   "metadata": {},
   "outputs": [],
   "source": [
    "from pathlib import Path\n",
    "import numpy as np\n",
    "import pandas as pd\n",
    "import duckdb\n",
    "import polars as pl"
   ]
  },
  {
   "cell_type": "code",
   "execution_count": 2,
   "metadata": {},
   "outputs": [],
   "source": [
    "from sklearn.feature_extraction.text import TfidfVectorizer"
   ]
  },
  {
   "cell_type": "code",
   "execution_count": 3,
   "metadata": {},
   "outputs": [],
   "source": [
    "source_fol = Path('parsed_files')\n",
    "reviews_fol = Path(source_fol, 'reviews')\n",
    "meta_fol = Path(source_fol, 'meta')"
   ]
  },
  {
   "cell_type": "code",
   "execution_count": 4,
   "metadata": {},
   "outputs": [],
   "source": [
    "all_files = set(Path.rglob(source_fol, '*.parquet'))\n",
    "meta_files = set(Path.rglob(source_fol, 'meta*.parquet'))\n",
    "review_files = all_files.difference(meta_files)"
   ]
  },
  {
   "cell_type": "code",
   "execution_count": 10,
   "metadata": {},
   "outputs": [],
   "source": [
    "db_file = 'e_com.duckdb'\n",
    "duck = duckdb.connect(db_file, read_only=True)"
   ]
  },
  {
   "cell_type": "code",
   "execution_count": null,
   "metadata": {},
   "outputs": [],
   "source": []
  },
  {
   "cell_type": "markdown",
   "metadata": {},
   "source": [
    "## Создаём таблицу продуктов"
   ]
  },
  {
   "cell_type": "code",
   "execution_count": 6,
   "metadata": {},
   "outputs": [
    {
     "data": {
      "text/plain": [
       "{WindowsPath('parsed_files/meta/meta_Amazon_Fashion.parquet'),\n",
       " WindowsPath('parsed_files/meta/meta_art.parquet'),\n",
       " WindowsPath('parsed_files/meta/meta_Baby_Products.parquet'),\n",
       " WindowsPath('parsed_files/meta/meta_Grocery_and_Gourmet_Food.parquet'),\n",
       " WindowsPath('parsed_files/meta/meta_Handmade_Products.parquet'),\n",
       " WindowsPath('parsed_files/meta/meta_Industrial_and_Scientific.parquet'),\n",
       " WindowsPath('parsed_files/meta/meta_Magazine_Subscriptions.parquet'),\n",
       " WindowsPath('parsed_files/meta/meta_Musical_Instruments.parquet'),\n",
       " WindowsPath('parsed_files/meta/meta_Software.parquet')}"
      ]
     },
     "execution_count": 6,
     "metadata": {},
     "output_type": "execute_result"
    }
   ],
   "source": [
    "meta_files"
   ]
  },
  {
   "cell_type": "code",
   "execution_count": 7,
   "metadata": {},
   "outputs": [
    {
     "data": {
      "text/plain": [
       "[WindowsPath('parsed_files/meta/meta_Industrial_and_Scientific.parquet'),\n",
       " WindowsPath('parsed_files/meta/meta_art.parquet'),\n",
       " WindowsPath('parsed_files/meta/meta_Amazon_Fashion.parquet'),\n",
       " WindowsPath('parsed_files/meta/meta_Grocery_and_Gourmet_Food.parquet'),\n",
       " WindowsPath('parsed_files/meta/meta_Software.parquet'),\n",
       " WindowsPath('parsed_files/meta/meta_Magazine_Subscriptions.parquet'),\n",
       " WindowsPath('parsed_files/meta/meta_Handmade_Products.parquet'),\n",
       " WindowsPath('parsed_files/meta/meta_Musical_Instruments.parquet'),\n",
       " WindowsPath('parsed_files/meta/meta_Baby_Products.parquet')]"
      ]
     },
     "execution_count": 7,
     "metadata": {},
     "output_type": "execute_result"
    }
   ],
   "source": [
    "mfiles = list(meta_files)[1:]+[list(meta_files)[0]]\n",
    "mfiles"
   ]
  },
  {
   "cell_type": "markdown",
   "metadata": {},
   "source": [
    "### Создаём таблицу stores"
   ]
  },
  {
   "cell_type": "code",
   "execution_count": 8,
   "metadata": {},
   "outputs": [],
   "source": [
    "duck.query(\"\"\"\n",
    "    create table stores(\n",
    "        store_id bigint\n",
    "        , store varchar\n",
    "        , primary key (store_id)\n",
    "    )\n",
    "\"\"\")"
   ]
  },
  {
   "cell_type": "code",
   "execution_count": 9,
   "metadata": {},
   "outputs": [],
   "source": [
    "duck.query(f\"\"\"\n",
    "    create sequence if not exists seq_1;\n",
    "    insert into stores\n",
    "    with\n",
    "    store_list as (\n",
    "        select distinct store\n",
    "        from parquet_scan({[str(x) for x in mfiles]}, hive_partitioning=True) \n",
    "    )\n",
    "    select\n",
    "        nextval('seq_1') as store_id\n",
    "        , store\n",
    "    from store_list\n",
    "\"\"\")"
   ]
  },
  {
   "cell_type": "code",
   "execution_count": 10,
   "metadata": {},
   "outputs": [
    {
     "data": {
      "text/plain": [
       "┌──────────────┬───────────────────────┐\n",
       "│ count(store) │ count(DISTINCT store) │\n",
       "│    int64     │         int64         │\n",
       "├──────────────┼───────────────────────┤\n",
       "│       379473 │                379473 │\n",
       "└──────────────┴───────────────────────┘"
      ]
     },
     "execution_count": 10,
     "metadata": {},
     "output_type": "execute_result"
    }
   ],
   "source": [
    "duck.query(\"select count(store), count(distinct store) from stores\")"
   ]
  },
  {
   "cell_type": "code",
   "execution_count": null,
   "metadata": {},
   "outputs": [],
   "source": []
  },
  {
   "cell_type": "markdown",
   "metadata": {},
   "source": [
    "### Создаём таблицу categories"
   ]
  },
  {
   "cell_type": "code",
   "execution_count": 11,
   "metadata": {},
   "outputs": [],
   "source": [
    "duck.query(\"\"\"\n",
    "    create table categories(\n",
    "        category_id bigint\n",
    "        , category varchar\n",
    "        , primary key (category_id)\n",
    "    )\n",
    "\"\"\")"
   ]
  },
  {
   "cell_type": "code",
   "execution_count": 12,
   "metadata": {},
   "outputs": [],
   "source": [
    "duck.query(f\"\"\"\n",
    "    create sequence if not exists seq_1;\n",
    "    insert into categories\n",
    "    with\n",
    "    category_list as (\n",
    "        select distinct main_category as category\n",
    "        from parquet_scan({[str(x) for x in mfiles]}, hive_partitioning=True) \n",
    "    )\n",
    "    select\n",
    "        nextval('seq_1') as category_id\n",
    "        , category\n",
    "    from category_list\n",
    "\"\"\")"
   ]
  },
  {
   "cell_type": "code",
   "execution_count": 13,
   "metadata": {},
   "outputs": [
    {
     "data": {
      "text/plain": [
       "┌─────────────────┬──────────────────────────┐\n",
       "│ count(category) │ count(DISTINCT category) │\n",
       "│      int64      │          int64           │\n",
       "├─────────────────┼──────────────────────────┤\n",
       "│              44 │                       44 │\n",
       "└─────────────────┴──────────────────────────┘"
      ]
     },
     "execution_count": 13,
     "metadata": {},
     "output_type": "execute_result"
    }
   ],
   "source": [
    "duck.query(\"select count(category), count(distinct category) from categories\")"
   ]
  },
  {
   "cell_type": "code",
   "execution_count": null,
   "metadata": {},
   "outputs": [],
   "source": []
  },
  {
   "cell_type": "markdown",
   "metadata": {},
   "source": [
    "### Создаём таблицу items"
   ]
  },
  {
   "cell_type": "code",
   "execution_count": 14,
   "metadata": {},
   "outputs": [],
   "source": [
    "duck.query(\"\"\"\n",
    "    create table items(\n",
    "        item_id bigint\n",
    "        , parent_asin varchar\n",
    "        , title varchar\n",
    "        , image varchar\n",
    "        , primary key (item_id)\n",
    "    )\n",
    "\"\"\")"
   ]
  },
  {
   "cell_type": "code",
   "execution_count": 15,
   "metadata": {},
   "outputs": [],
   "source": [
    "duck.query(f\"\"\"\n",
    "    create sequence if not exists seq_1;\n",
    "    insert into items\n",
    "    with\n",
    "    meta as (\n",
    "        select\n",
    "           parent_asin\n",
    "           , title\n",
    "           , images\n",
    "        from parquet_scan({[str(x) for x in mfiles]}, hive_partitioning=True)\n",
    "    )\n",
    "    select\n",
    "        nextval('seq_1') as item_id\n",
    "        , parent_asin\n",
    "        , m.title\n",
    "        , m.images as image\n",
    "    from meta m\n",
    "\"\"\")"
   ]
  },
  {
   "cell_type": "code",
   "execution_count": 16,
   "metadata": {},
   "outputs": [
    {
     "data": {
      "text/plain": [
       "┌─────────┬─────────────┬───────────────────────────────────┬──────────────────────────────────────────────────────────┐\n",
       "│ item_id │ parent_asin │               title               │                          image                           │\n",
       "│  int64  │   varchar   │              varchar              │                         varchar                          │\n",
       "├─────────┼─────────────┼───────────────────────────────────┼──────────────────────────────────────────────────────────┤\n",
       "│  382911 │ B01C4319LO  │ Chicco Viaro Travel System, Teak  │ https://m.media-amazon.com/images/I/51fWzrTOFjL.jpg      │\n",
       "│  382912 │ B07FM4MJJP  │ Kisbaby Four Layers Muslin Ligh…  │ https://m.media-amazon.com/images/I/31urSmul1mL._AC_.jpg │\n",
       "│  382913 │ B08WCG372G  │ EZTOTZ Meals with Milton - USA …  │ https://m.media-amazon.com/images/I/41BitYt282L.jpg      │\n",
       "│  382914 │ B0083SXABC  │ Nuby iMonster Toddler Bowl        │ https://m.media-amazon.com/images/I/31yFxn-V-HL.jpg      │\n",
       "│  382915 │ B07N8GRHHK  │ mDesign Slim Storage Organizer …  │ https://m.media-amazon.com/images/I/41rS5d3dB+L._AC_.jpg │\n",
       "│  382916 │ B00ITJD0U6  │ Kandoo Wet Wipes                  │ https://m.media-amazon.com/images/I/41cS5qB6TjL._AC_.jpg │\n",
       "│  382917 │ B07JM4RK9T  │ XMWEALTHY Unisex Infant Swaddle…  │ https://m.media-amazon.com/images/I/41RLHVh7ACL.jpg      │\n",
       "│  382918 │ B00A30FUCU  │ Carter's \"Lexington\" Diaper Tot…  │ https://m.media-amazon.com/images/I/51GupLpBZmL._AC_.jpg │\n",
       "│  382919 │ B074553VVR  │ Baby Clothing Flower Bouquet, N…  │ https://m.media-amazon.com/images/I/51xMBd97m9L.jpg      │\n",
       "│  382920 │ B08F1VWF5P  │ Cloele Kids Toddler Pillowcase …  │ https://m.media-amazon.com/images/I/41YwmHfVXCL.jpg      │\n",
       "│     ·   │     ·       │                 ·                 │                          ·                               │\n",
       "│     ·   │     ·       │                 ·                 │                          ·                               │\n",
       "│     ·   │     ·       │                 ·                 │                          ·                               │\n",
       "│  403141 │ B00S143JHS  │ Joovy Spoon Baby Walker & Activ…  │ https://m.media-amazon.com/images/I/31g1-JnDf1L.jpg      │\n",
       "│  403142 │ B08ZC5DDNZ  │ AGIMOLI Baby Crawling Mat Folda…  │ https://m.media-amazon.com/images/I/517NSV9RMCL.jpg      │\n",
       "│  403143 │ B08MKSF5NK  │ Y-Nut Multicoloured Door Finger…  │ https://m.media-amazon.com/images/I/51s0ooqAj+L.jpg      │\n",
       "│  403144 │ B013RBBAIE  │ Comotomo Replacement Nipples in…  │ https://m.media-amazon.com/images/I/41Vr0RD-1nL.jpg      │\n",
       "│  403145 │ B0B4FGVHHJ  │ Baby Cub - 2 in 1 Toddler Train…  │ https://m.media-amazon.com/images/I/31ywUA+FKdL._AC_.jpg │\n",
       "│  403146 │ B0B4FGQR2H  │ AutoBrush Ellie The Elephant Ba…  │ https://m.media-amazon.com/images/I/31+pp9Z04nL.jpg      │\n",
       "│  403147 │ B00WSCXOZQ  │ Skip Hop Forget Me Not Big Kid …  │ https://m.media-amazon.com/images/I/51q6dkWEP5L.jpg      │\n",
       "│  403148 │ B0C3DDKB58  │ Wildkin Kids Educational Play R…  │ https://m.media-amazon.com/images/I/51jOkOSPQUL._AC_.jpg │\n",
       "│  403149 │ B075VPVZSK  │ S SELDORAUK Touch Night Lights …  │ https://m.media-amazon.com/images/I/31f1ONTVWmS._AC_.jpg │\n",
       "│  403150 │ B07B7QX6WL  │ Graco Modes 3 Essentials LX Tra…  │ https://m.media-amazon.com/images/I/51wlYccqm7L.jpg      │\n",
       "├─────────┴─────────────┴───────────────────────────────────┴──────────────────────────────────────────────────────────┤\n",
       "│ ? rows (>9999 rows, 20 shown)                                                                              4 columns │\n",
       "└──────────────────────────────────────────────────────────────────────────────────────────────────────────────────────┘"
      ]
     },
     "execution_count": 16,
     "metadata": {},
     "output_type": "execute_result"
    }
   ],
   "source": [
    "duck.query(\"\"\"\n",
    "    select * from items\n",
    "\"\"\")"
   ]
  },
  {
   "cell_type": "code",
   "execution_count": 17,
   "metadata": {},
   "outputs": [
    {
     "data": {
      "text/plain": [
       "┌────────────────────┬─────────────────────────────┐\n",
       "│ count(parent_asin) │ count(DISTINCT parent_asin) │\n",
       "│       int64        │            int64            │\n",
       "├────────────────────┼─────────────────────────────┤\n",
       "│            3347168 │                     3347168 │\n",
       "└────────────────────┴─────────────────────────────┘"
      ]
     },
     "execution_count": 17,
     "metadata": {},
     "output_type": "execute_result"
    }
   ],
   "source": [
    "duck.query(\"select count(parent_asin), count(distinct parent_asin) from items\")"
   ]
  },
  {
   "cell_type": "markdown",
   "metadata": {},
   "source": [
    "### Создаём таблицу items_info"
   ]
  },
  {
   "cell_type": "code",
   "execution_count": 18,
   "metadata": {},
   "outputs": [],
   "source": [
    "duck.query(\"\"\"\n",
    "    create table if not exists items_info(\n",
    "        item_id bigint\n",
    "        , category_id bigint\n",
    "        , store_id bigint\n",
    "        , price double\n",
    "        , has_image bigint\n",
    "        , has_video bigint\n",
    "        , foreign key (item_id) references items(item_id)\n",
    "--        , foreign key (category_id) references categories(category_id)\n",
    "--        , foreign key (store_id) references stores(store_id)\n",
    "    )\n",
    "\"\"\")"
   ]
  },
  {
   "cell_type": "code",
   "execution_count": 21,
   "metadata": {},
   "outputs": [],
   "source": [
    "info = duck.query(f\"\"\"\n",
    "    with\n",
    "    meta as (\n",
    "        select\n",
    "           parent_asin\n",
    "           , main_category as category\n",
    "           , store\n",
    "           , price\n",
    "           , has_image\n",
    "           , videos as has_video\n",
    "        from parquet_scan({[str(x) for x in mfiles]}, hive_partitioning=True)\n",
    "    )\n",
    "    select\n",
    "        i.item_id\n",
    "        , c.category_id\n",
    "        , s.store_id\n",
    "        , m.price\n",
    "        , m.has_image\n",
    "        , m.has_video\n",
    "    from meta m\n",
    "        left join items i on i.parent_asin = m.parent_asin\n",
    "        left join categories c on c.category = m.category\n",
    "        left join stores s on s.store = m.store \n",
    "\"\"\").pl()"
   ]
  },
  {
   "cell_type": "code",
   "execution_count": 22,
   "metadata": {},
   "outputs": [
    {
     "data": {
      "text/plain": [
       "154.41823196411133"
      ]
     },
     "execution_count": 22,
     "metadata": {},
     "output_type": "execute_result"
    }
   ],
   "source": [
    "info.estimated_size(\"mb\")"
   ]
  },
  {
   "cell_type": "code",
   "execution_count": 23,
   "metadata": {},
   "outputs": [],
   "source": [
    "duck.query(\"\"\"\n",
    "    insert into items_info\n",
    "    select *\n",
    "    from info\n",
    "\"\"\")"
   ]
  },
  {
   "cell_type": "code",
   "execution_count": null,
   "metadata": {},
   "outputs": [],
   "source": []
  },
  {
   "cell_type": "markdown",
   "metadata": {},
   "source": [
    "### Создаём матрицу наиболее часто встречающихся слов в текстовых метаданных"
   ]
  },
  {
   "cell_type": "code",
   "execution_count": 24,
   "metadata": {},
   "outputs": [],
   "source": [
    "vectorizer = TfidfVectorizer(min_df=.1, max_df=.8)"
   ]
  },
  {
   "cell_type": "code",
   "execution_count": 28,
   "metadata": {},
   "outputs": [
    {
     "data": {
      "application/vnd.jupyter.widget-view+json": {
       "model_id": "a7afad2e5b8e468f8d197358c9241675",
       "version_major": 2,
       "version_minor": 0
      },
      "text/plain": [
       "FloatProgress(value=0.0, layout=Layout(width='auto'), style=ProgressStyle(bar_color='black'))"
      ]
     },
     "metadata": {},
     "output_type": "display_data"
    }
   ],
   "source": [
    "meta = duck.query(f\"\"\"\n",
    "    select \n",
    "        i.item_id\n",
    "        , concat_ws(';', t.categories, t.features, t.description, t.details) as txt \n",
    "    from parquet_scan({[str(x) for x in mfiles]}, hive_partitioning=True) t\n",
    "        left join items i on t.parent_asin=i.parent_asin\n",
    "\"\"\").pl()"
   ]
  },
  {
   "cell_type": "code",
   "execution_count": 29,
   "metadata": {},
   "outputs": [
    {
     "data": {
      "text/plain": [
       "5455.077537536621"
      ]
     },
     "execution_count": 29,
     "metadata": {},
     "output_type": "execute_result"
    }
   ],
   "source": [
    "meta.estimated_size('mb')"
   ]
  },
  {
   "cell_type": "code",
   "execution_count": 30,
   "metadata": {},
   "outputs": [],
   "source": [
    "vectorized_data = vectorizer.fit_transform(\n",
    "    meta.to_pandas()['txt'].fillna('')\n",
    ")"
   ]
  },
  {
   "cell_type": "code",
   "execution_count": 42,
   "metadata": {},
   "outputs": [],
   "source": [
    "tfidf_df=pd.DataFrame(\n",
    "    vectorized_data.toarray(),\n",
    "    columns = vectorizer.get_feature_names_out(),\n",
    "    index = meta.select('item_id').to_series().to_numpy()\n",
    ").reset_index(names='item_id')"
   ]
  },
  {
   "cell_type": "code",
   "execution_count": 44,
   "metadata": {},
   "outputs": [],
   "source": [
    "del vectorized_data\n",
    "del meta"
   ]
  },
  {
   "cell_type": "code",
   "execution_count": 45,
   "metadata": {},
   "outputs": [
    {
     "data": {
      "application/vnd.jupyter.widget-view+json": {
       "model_id": "41ba6da53607473d97a527d2442e8933",
       "version_major": 2,
       "version_minor": 0
      },
      "text/plain": [
       "FloatProgress(value=0.0, layout=Layout(width='auto'), style=ProgressStyle(bar_color='black'))"
      ]
     },
     "metadata": {},
     "output_type": "display_data"
    }
   ],
   "source": [
    "duck.query(\"\"\"\n",
    "    create table tfidf as\n",
    "    select *\n",
    "    from tfidf_df\n",
    "\"\"\")"
   ]
  },
  {
   "cell_type": "code",
   "execution_count": null,
   "metadata": {},
   "outputs": [],
   "source": []
  },
  {
   "cell_type": "markdown",
   "metadata": {},
   "source": [
    "## Создаём таблицу users"
   ]
  },
  {
   "cell_type": "code",
   "execution_count": 10,
   "metadata": {},
   "outputs": [],
   "source": [
    "duck.query(\"\"\"\n",
    "    create table if not exists users(\n",
    "        user_id bigint\n",
    "        , user varchar\n",
    "        , primary key (user_id)\n",
    "    )\n",
    "\"\"\")"
   ]
  },
  {
   "cell_type": "code",
   "execution_count": 11,
   "metadata": {},
   "outputs": [
    {
     "data": {
      "application/vnd.jupyter.widget-view+json": {
       "model_id": "4723fea7b3484e7a85dbbb673395cae7",
       "version_major": 2,
       "version_minor": 0
      },
      "text/plain": [
       "FloatProgress(value=0.0, layout=Layout(width='auto'), style=ProgressStyle(bar_color='black'))"
      ]
     },
     "metadata": {},
     "output_type": "display_data"
    }
   ],
   "source": [
    "duck.query(f\"\"\"\n",
    "    create sequence if not exists seq_1;\n",
    "    insert into users\n",
    "    with\n",
    "    u as (\n",
    "        select distinct\n",
    "           user_id as user\n",
    "        from parquet_scan({[str(x) for x in review_files]}, hive_partitioning=True)\n",
    "    )\n",
    "    select\n",
    "        nextval('seq_1') as user_id\n",
    "        , user\n",
    "    from u\n",
    "\"\"\")"
   ]
  },
  {
   "cell_type": "code",
   "execution_count": 12,
   "metadata": {},
   "outputs": [
    {
     "data": {
      "text/plain": [
       "┌───────────────┬────────────────────────┐\n",
       "│ count(\"user\") │ count(DISTINCT \"user\") │\n",
       "│     int64     │         int64          │\n",
       "├───────────────┼────────────────────────┤\n",
       "│      17776687 │               17776687 │\n",
       "└───────────────┴────────────────────────┘"
      ]
     },
     "execution_count": 12,
     "metadata": {},
     "output_type": "execute_result"
    }
   ],
   "source": [
    "duck.query(\"select count(user), count(distinct user) from users\")"
   ]
  },
  {
   "cell_type": "markdown",
   "metadata": {},
   "source": [
    "### Создание таблицы reviews"
   ]
  },
  {
   "cell_type": "code",
   "execution_count": 13,
   "metadata": {},
   "outputs": [],
   "source": [
    "duck.query(\"\"\"\n",
    "    create table if not exists reviews (\n",
    "        user_id bigint\n",
    "        , item_id bigint\n",
    "        , review_timestamp timestamp\n",
    "        , rating double\n",
    "        , helpful_vote bigint\n",
    "        , verified_purchase boolean\n",
    "        , foreign key (user_id) references users(user_id)\n",
    "        --, foreign key (item_id) references items(item_id)\n",
    "    )\n",
    "\"\"\")"
   ]
  },
  {
   "cell_type": "code",
   "execution_count": 14,
   "metadata": {},
   "outputs": [
    {
     "data": {
      "application/vnd.jupyter.widget-view+json": {
       "model_id": "539226b0a24f4e8ab3cc3381bf5d58f8",
       "version_major": 2,
       "version_minor": 0
      },
      "text/plain": [
       "FloatProgress(value=0.0, layout=Layout(width='auto'), style=ProgressStyle(bar_color='black'))"
      ]
     },
     "metadata": {},
     "output_type": "display_data"
    }
   ],
   "source": [
    "reviews_df = duck.query(f\"\"\"\n",
    "    with\n",
    "    r as (\n",
    "        select\n",
    "            user_id as user\n",
    "            , parent_asin\n",
    "            , epoch_ms(timestamp) as review_timestamp\n",
    "            , rating\n",
    "            , helpful_vote\n",
    "            , verified_purchase\n",
    "        from parquet_scan({[str(x) for x in review_files]}, hive_partitioning=True)\n",
    "    )\n",
    "    select\n",
    "        u.user_id\n",
    "        , i.item_id\n",
    "        , review_timestamp\n",
    "        , rating\n",
    "        , helpful_vote\n",
    "        , verified_purchase\n",
    "    from r\n",
    "        left join users u on r.user=u.user\n",
    "        left join items i on r.parent_asin=i.parent_asin\n",
    "\"\"\").pl()"
   ]
  },
  {
   "cell_type": "code",
   "execution_count": 15,
   "metadata": {},
   "outputs": [
    {
     "data": {
      "text/plain": [
       "1746.1388816833496"
      ]
     },
     "execution_count": 15,
     "metadata": {},
     "output_type": "execute_result"
    }
   ],
   "source": [
    "reviews_df.estimated_size(\"mb\")"
   ]
  },
  {
   "cell_type": "code",
   "execution_count": 16,
   "metadata": {},
   "outputs": [
    {
     "data": {
      "application/vnd.jupyter.widget-view+json": {
       "model_id": "4afc35c162c44d57b3d0f61d3d09d0e7",
       "version_major": 2,
       "version_minor": 0
      },
      "text/plain": [
       "FloatProgress(value=0.0, layout=Layout(width='auto'), style=ProgressStyle(bar_color='black'))"
      ]
     },
     "metadata": {},
     "output_type": "display_data"
    }
   ],
   "source": [
    "duck.query(f\"\"\"\n",
    "    insert into reviews\n",
    "    select\n",
    "        user_id\n",
    "        , item_id\n",
    "        , review_timestamp\n",
    "        , rating\n",
    "        , helpful_vote\n",
    "        , verified_purchase\n",
    "    from reviews_df\n",
    "\"\"\")"
   ]
  },
  {
   "cell_type": "code",
   "execution_count": 17,
   "metadata": {},
   "outputs": [
    {
     "data": {
      "text/plain": [
       "┌──────────┬─────────┬─────────────────────────┬────────┬──────────────┬───────────────────┐\n",
       "│ user_id  │ item_id │    review_timestamp     │ rating │ helpful_vote │ verified_purchase │\n",
       "│  int64   │  int64  │        timestamp        │ double │    int64     │      boolean      │\n",
       "├──────────┼─────────┼─────────────────────────┼────────┼──────────────┼───────────────────┤\n",
       "│ 17305926 │  548571 │ 2022-11-20 11:40:49.07  │    5.0 │            3 │ true              │\n",
       "│ 17305926 │  508762 │ 2022-11-20 04:48:34.27  │    5.0 │            5 │ true              │\n",
       "│  5226228 │  508762 │ 2022-04-09 05:11:37.942 │    5.0 │            0 │ true              │\n",
       "│  5226228 │ 1017564 │ 2022-02-12 22:14:30.853 │    5.0 │            0 │ true              │\n",
       "│  5226228 │  483284 │ 2021-08-18 03:59:52.372 │    5.0 │            0 │ true              │\n",
       "│  5569176 │  770327 │ 2014-02-02 19:44:49     │    5.0 │            0 │ true              │\n",
       "│ 17305927 │ 1017564 │ 2017-08-04 04:08:36.714 │    4.0 │            0 │ true              │\n",
       "│  5768329 │  447454 │ 2022-01-31 20:55:11.225 │    2.0 │            0 │ true              │\n",
       "│  5367781 │  560052 │ 2021-04-10 16:23:20.288 │    2.0 │            3 │ false             │\n",
       "│  5367782 │  906986 │ 2022-09-06 14:22:43.352 │    4.0 │            3 │ true              │\n",
       "│     ·    │     ·   │            ·            │     ·  │            · │  ·                │\n",
       "│     ·    │     ·   │            ·            │     ·  │            · │  ·                │\n",
       "│     ·    │     ·   │            ·            │     ·  │            · │  ·                │\n",
       "│  5454182 │ 1062334 │ 2019-03-06 03:43:38.668 │    5.0 │            0 │ true              │\n",
       "│  5226492 │  986442 │ 2013-05-15 02:37:46     │    2.0 │            0 │ true              │\n",
       "│  5226492 │  666835 │ 2013-05-15 02:32:59     │    3.0 │            1 │ true              │\n",
       "│ 17306182 │ 1006620 │ 2021-05-19 10:20:07.011 │    1.0 │            0 │ true              │\n",
       "│  5771148 │  457248 │ 2021-02-23 22:20:12.264 │    4.0 │            0 │ true              │\n",
       "│  5771148 │ 1081389 │ 2020-01-06 13:53:55.495 │    5.0 │            0 │ true              │\n",
       "│  5241661 │  509421 │ 2011-10-28 01:06:07     │    1.0 │            2 │ true              │\n",
       "│  5292743 │  905287 │ 2014-05-18 18:56:34     │    4.0 │            0 │ true              │\n",
       "│  5292743 │  799937 │ 2013-12-17 15:46:38     │    5.0 │            8 │ true              │\n",
       "│  5292743 │  801268 │ 2013-09-20 01:03:38     │    5.0 │            9 │ true              │\n",
       "├──────────┴─────────┴─────────────────────────┴────────┴──────────────┴───────────────────┤\n",
       "│ ? rows (>9999 rows, 20 shown)                                                  6 columns │\n",
       "└──────────────────────────────────────────────────────────────────────────────────────────┘"
      ]
     },
     "execution_count": 17,
     "metadata": {},
     "output_type": "execute_result"
    }
   ],
   "source": [
    "duck.query(\"select * from reviews\")"
   ]
  },
  {
   "cell_type": "code",
   "execution_count": null,
   "metadata": {},
   "outputs": [],
   "source": []
  },
  {
   "cell_type": "code",
   "execution_count": 11,
   "metadata": {},
   "outputs": [
    {
     "data": {
      "text/plain": [
       "┌────────────┐\n",
       "│    name    │\n",
       "│  varchar   │\n",
       "├────────────┤\n",
       "│ categories │\n",
       "│ items      │\n",
       "│ items_info │\n",
       "│ reviews    │\n",
       "│ stores     │\n",
       "│ tfidf      │\n",
       "│ users      │\n",
       "└────────────┘"
      ]
     },
     "execution_count": 11,
     "metadata": {},
     "output_type": "execute_result"
    }
   ],
   "source": [
    "duck.query(\"show tables\")"
   ]
  },
  {
   "cell_type": "code",
   "execution_count": 12,
   "metadata": {},
   "outputs": [
    {
     "data": {
      "text/plain": [
       "┌─────────┬──────────────────────────────┐\n",
       "│ user_id │             user             │\n",
       "│  int64  │           varchar            │\n",
       "├─────────┼──────────────────────────────┤\n",
       "│ 3785830 │ AFFBFLESGGNDQ2XSKASEQIID3DQA │\n",
       "│ 3785831 │ AHSI6LPMRNXSZZCZORRVZR4KLKKQ │\n",
       "│ 3785832 │ AHLZERHOULVEYT2F3VVNRDK2WYRQ │\n",
       "│ 3785833 │ AHBB2RTYSZDO7AQSQ4C36OOVJVQA │\n",
       "│ 3785834 │ AHTVBDEH37JBGADGJFZRADISJP5Q │\n",
       "│ 3785835 │ AHQ6YSXS6HHJDNQH3A6MHDEIRJXA │\n",
       "│ 3785836 │ AHZ3FWQZDRQ7KS2JPRVF2EMAA5PQ │\n",
       "│ 3786811 │ AH6FDHYQISXJUDXFG6EYH4WZN3NA │\n",
       "│ 3786812 │ AECBR5WWHXWNZHVSBNPI5Q4PN4ZA │\n",
       "│ 3786813 │ AEAVEECIN4JDRYDNAVQ3BTWHR3PQ │\n",
       "│    ·    │              ·               │\n",
       "│    ·    │              ·               │\n",
       "│    ·    │              ·               │\n",
       "│ 3868514 │ AGGPRIHG7CKVRDD6ORA7EHSCNNPQ │\n",
       "│ 3868515 │ AFITCZDO2QHEOMFTMRCES5WKGDAQ │\n",
       "│ 3868516 │ AEOP5BHE2MBCRPJP2KYUKKTKWUAA │\n",
       "│ 3868517 │ AFBSNWY7KQ4QPOJMNTPJOTOM3FFQ │\n",
       "│ 3868518 │ AG5TL35QASNRKGRT5OT4AJKTNIVQ │\n",
       "│ 3868519 │ AEXVKFLVUBYPJLWLKUF67662OF6A │\n",
       "│ 3868520 │ AEOLZERJ2E2EZGIV5TZWDADNRHZA │\n",
       "│ 3868521 │ AHQCHGQA67ORVEBES3REM7TB4RVA │\n",
       "│ 3868522 │ AGOUJ2V2SJ7GCOFI3MB75DZB6CTQ │\n",
       "│ 3868523 │ AHUTV3PKMH2XPXROYH5IZ3QHFXOQ │\n",
       "├─────────┴──────────────────────────────┤\n",
       "│     ? rows (>9999 rows, 20 shown)      │\n",
       "└────────────────────────────────────────┘"
      ]
     },
     "execution_count": 12,
     "metadata": {},
     "output_type": "execute_result"
    }
   ],
   "source": [
    "duck.query(\"select * from users\")"
   ]
  },
  {
   "cell_type": "code",
   "execution_count": 9,
   "metadata": {},
   "outputs": [],
   "source": [
    "duck.close()"
   ]
  }
 ],
 "metadata": {
  "kernelspec": {
   "display_name": "env_1",
   "language": "python",
   "name": "python3"
  },
  "language_info": {
   "codemirror_mode": {
    "name": "ipython",
    "version": 3
   },
   "file_extension": ".py",
   "mimetype": "text/x-python",
   "name": "python",
   "nbconvert_exporter": "python",
   "pygments_lexer": "ipython3",
   "version": "3.11.4"
  }
 },
 "nbformat": 4,
 "nbformat_minor": 2
}
