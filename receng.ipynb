{
 "cells": [
  {
   "cell_type": "code",
   "execution_count": 1,
   "metadata": {},
   "outputs": [],
   "source": [
    "from pathlib import Path\n",
    "import numpy as np\n",
    "import pandas as pd\n",
    "import duckdb\n",
    "import polars as pl"
   ]
  },
  {
   "cell_type": "code",
   "execution_count": 5,
   "metadata": {},
   "outputs": [
    {
     "data": {
      "text/plain": [
       "Timestamp('2024-09-24 00:00:00')"
      ]
     },
     "execution_count": 5,
     "metadata": {},
     "output_type": "execute_result"
    }
   ],
   "source": [
    "pd.to_datetime('2024-09-23') + pd.Timedelta(days = 1)"
   ]
  },
  {
   "cell_type": "code",
   "execution_count": 2,
   "metadata": {},
   "outputs": [],
   "source": [
    "source_fol = Path('parsed_files')\n",
    "reviews_fol = Path(source_fol, 'reviews')\n",
    "meta_fol = Path(source_fol, 'meta')"
   ]
  },
  {
   "cell_type": "code",
   "execution_count": 3,
   "metadata": {},
   "outputs": [],
   "source": [
    "all_files = set(Path.rglob(source_fol, '*.parquet'))\n",
    "meta_files = set(Path.rglob(source_fol, 'meta*.parquet'))\n",
    "review_files = all_files.difference(meta_files)"
   ]
  },
  {
   "cell_type": "code",
   "execution_count": 4,
   "metadata": {},
   "outputs": [
    {
     "data": {
      "text/plain": [
       "{WindowsPath('parsed_files/reviews/Amazon_Fashion.parquet'),\n",
       " WindowsPath('parsed_files/reviews/Arts_Crafts_and_Sewing.parquet'),\n",
       " WindowsPath('parsed_files/reviews/Baby_Products.parquet'),\n",
       " WindowsPath('parsed_files/reviews/Grocery_and_Gourmet_Food.parquet'),\n",
       " WindowsPath('parsed_files/reviews/Handmade_Products.parquet'),\n",
       " WindowsPath('parsed_files/reviews/Industrial_and_Scientific.parquet'),\n",
       " WindowsPath('parsed_files/reviews/Magazine_Subscriptions.parquet'),\n",
       " WindowsPath('parsed_files/reviews/Musical_Instruments.parquet'),\n",
       " WindowsPath('parsed_files/reviews/Software.parquet')}"
      ]
     },
     "execution_count": 4,
     "metadata": {},
     "output_type": "execute_result"
    }
   ],
   "source": [
    "review_files"
   ]
  },
  {
   "cell_type": "code",
   "execution_count": 5,
   "metadata": {},
   "outputs": [
    {
     "data": {
      "text/plain": [
       "{WindowsPath('parsed_files/meta/meta_Amazon_Fashion.parquet'),\n",
       " WindowsPath('parsed_files/meta/meta_art.parquet'),\n",
       " WindowsPath('parsed_files/meta/meta_Baby_Products.parquet'),\n",
       " WindowsPath('parsed_files/meta/meta_Grocery_and_Gourmet_Food.parquet'),\n",
       " WindowsPath('parsed_files/meta/meta_Handmade_Products.parquet'),\n",
       " WindowsPath('parsed_files/meta/meta_Industrial_and_Scientific.parquet'),\n",
       " WindowsPath('parsed_files/meta/meta_Magazine_Subscriptions.parquet'),\n",
       " WindowsPath('parsed_files/meta/meta_Musical_Instruments.parquet'),\n",
       " WindowsPath('parsed_files/meta/meta_Software.parquet')}"
      ]
     },
     "execution_count": 5,
     "metadata": {},
     "output_type": "execute_result"
    }
   ],
   "source": [
    "meta_files"
   ]
  },
  {
   "cell_type": "code",
   "execution_count": 6,
   "metadata": {},
   "outputs": [],
   "source": [
    "db_file = 'ecom_db.duckdb'\n",
    "duck = duckdb.connect(db_file)"
   ]
  },
  {
   "cell_type": "code",
   "execution_count": null,
   "metadata": {},
   "outputs": [],
   "source": []
  },
  {
   "cell_type": "code",
   "execution_count": null,
   "metadata": {},
   "outputs": [],
   "source": []
  },
  {
   "cell_type": "code",
   "execution_count": 9,
   "metadata": {},
   "outputs": [
    {
     "data": {
      "application/vnd.jupyter.widget-view+json": {
       "model_id": "161689a06c0c441e8b5ee52f503885fa",
       "version_major": 2,
       "version_minor": 0
      },
      "text/plain": [
       "FloatProgress(value=0.0, layout=Layout(width='auto'), style=ProgressStyle(bar_color='black'))"
      ]
     },
     "metadata": {},
     "output_type": "display_data"
    }
   ],
   "source": [
    "duck.query(f\"\"\"\n",
    "    create table reviews as\n",
    "    select\n",
    "        rating\n",
    "        , parent_asin\n",
    "        , user_id\n",
    "        , epoch_ms(timestamp) as review_timestamp\n",
    "        , helpful_vote\n",
    "        , verified_purchase\n",
    "    from parquet_scan({[str(x) for x in list(review_files)]}, hive_partitioning=True)\n",
    "\"\"\")"
   ]
  },
  {
   "cell_type": "code",
   "execution_count": 34,
   "metadata": {},
   "outputs": [
    {
     "data": {
      "text/plain": [
       "┌──────────────┐\n",
       "│ count_star() │\n",
       "│    int64     │\n",
       "├──────────────┤\n",
       "│     45631385 │\n",
       "└──────────────┘"
      ]
     },
     "execution_count": 34,
     "metadata": {},
     "output_type": "execute_result"
    }
   ],
   "source": [
    "duck.query(\"select count(*) from reviews\")# order by helpful_vote desc\")"
   ]
  },
  {
   "cell_type": "code",
   "execution_count": null,
   "metadata": {},
   "outputs": [],
   "source": []
  },
  {
   "cell_type": "code",
   "execution_count": 42,
   "metadata": {},
   "outputs": [],
   "source": [
    "duck.query(\"alter table reveiws_net rename to reviews_net\")"
   ]
  },
  {
   "cell_type": "code",
   "execution_count": 38,
   "metadata": {},
   "outputs": [
    {
     "data": {
      "application/vnd.jupyter.widget-view+json": {
       "model_id": "a9308ec1fd9640eb9fb4d8201e4f4e43",
       "version_major": 2,
       "version_minor": 0
      },
      "text/plain": [
       "FloatProgress(value=0.0, layout=Layout(width='auto'), style=ProgressStyle(bar_color='black'))"
      ]
     },
     "metadata": {},
     "output_type": "display_data"
    }
   ],
   "source": [
    "duck.query(\"\"\"\n",
    "    create table reveiws_net as\n",
    "    with\n",
    "    base as (\n",
    "    select \n",
    "        r.*\n",
    "        , strftime(review_timestamp, '%Y%m%d') as review_date\n",
    "        , row_number() over(\n",
    "            partition by user_id, parent_asin, review_date\n",
    "           order by review_timestamp\n",
    "        ) as row_n\n",
    "    from reviews r\n",
    "    qualify row_n=1\n",
    "    order by\n",
    "        user_id\n",
    "        , parent_asin\n",
    "        , review_timestamp\n",
    "    )\n",
    "    select * exclude(row_n, review_date)\n",
    "    from base\n",
    "\"\"\")"
   ]
  },
  {
   "cell_type": "code",
   "execution_count": 53,
   "metadata": {},
   "outputs": [
    {
     "data": {
      "application/vnd.jupyter.widget-view+json": {
       "model_id": "567f3ae291b94459b09d9592e561d250",
       "version_major": 2,
       "version_minor": 0
      },
      "text/plain": [
       "FloatProgress(value=0.0, layout=Layout(width='auto'), style=ProgressStyle(bar_color='black'))"
      ]
     },
     "metadata": {},
     "output_type": "display_data"
    },
    {
     "data": {
      "text/plain": [
       "17776687"
      ]
     },
     "execution_count": 53,
     "metadata": {},
     "output_type": "execute_result"
    }
   ],
   "source": [
    "users_nunique=duck.query(\"select count(distinct user_id) from reviews_net\").fetchall()[0][0]\n",
    "users_nunique"
   ]
  },
  {
   "cell_type": "code",
   "execution_count": 64,
   "metadata": {},
   "outputs": [
    {
     "data": {
      "application/vnd.jupyter.widget-view+json": {
       "model_id": "06279680dedf40f8b50bac681307e939",
       "version_major": 2,
       "version_minor": 0
      },
      "text/plain": [
       "FloatProgress(value=0.0, layout=Layout(width='auto'), style=ProgressStyle(bar_color='black'))"
      ]
     },
     "metadata": {},
     "output_type": "display_data"
    },
    {
     "data": {
      "text/plain": [
       "┌───────┬──────────────────────────────┐\n",
       "│  id   │           user_id            │\n",
       "│ int64 │           varchar            │\n",
       "├───────┼──────────────────────────────┤\n",
       "│     1 │ AE5JCP242E67D6OOUIPQPYW7QH3A │\n",
       "│     2 │ AE5JD3IOUTOPD4UX4PAVNRCPVEMQ │\n",
       "│     3 │ AE5JDAQ4WBSAKPOFJNHSASZV4VVQ │\n",
       "│     4 │ AE5JDBITA7BHP2IGKS5PJSTIPUPA │\n",
       "│     5 │ AE5JDFPLO7EJT6OGVT5VRXE4G4KA │\n",
       "└───────┴──────────────────────────────┘"
      ]
     },
     "execution_count": 64,
     "metadata": {},
     "output_type": "execute_result"
    }
   ],
   "source": [
    "duck.query(f\"\"\"\n",
    "    create sequence seq_id start 1;\n",
    "    with\n",
    "    base as (\n",
    "        select\n",
    "           distinct user_id\n",
    "        from reviews_net\n",
    "    )\n",
    "    select\n",
    "        nextval('seq_id') as id\n",
    "        , user_id\n",
    "    from base\n",
    "    limit 5\n",
    "\"\"\")"
   ]
  },
  {
   "cell_type": "code",
   "execution_count": 68,
   "metadata": {},
   "outputs": [],
   "source": [
    "duck.query(\"drop sequence seq_id\")"
   ]
  },
  {
   "cell_type": "code",
   "execution_count": 69,
   "metadata": {},
   "outputs": [
    {
     "data": {
      "application/vnd.jupyter.widget-view+json": {
       "model_id": "b7fd7f0c90b84836abe0d4875793693b",
       "version_major": 2,
       "version_minor": 0
      },
      "text/plain": [
       "FloatProgress(value=0.0, layout=Layout(width='auto'), style=ProgressStyle(bar_color='black'))"
      ]
     },
     "metadata": {},
     "output_type": "display_data"
    }
   ],
   "source": [
    "duck.query(f\"\"\"\n",
    "    create sequence seq_id start 1;\n",
    "    create table users as\n",
    "    with\n",
    "    base as (\n",
    "        select\n",
    "           distinct user_id\n",
    "        from reviews_net\n",
    "    )\n",
    "    select\n",
    "        nextval('seq_id') as id\n",
    "        , user_id\n",
    "    from base\n",
    "\"\"\")"
   ]
  },
  {
   "cell_type": "code",
   "execution_count": 70,
   "metadata": {},
   "outputs": [
    {
     "data": {
      "text/plain": [
       "1085.0031814575195"
      ]
     },
     "execution_count": 70,
     "metadata": {},
     "output_type": "execute_result"
    }
   ],
   "source": [
    "duck.query(\"select * from users\").pl().estimated_size('mb')"
   ]
  },
  {
   "cell_type": "code",
   "execution_count": 74,
   "metadata": {},
   "outputs": [],
   "source": [
    "duck.query(\"drop table reviews\")"
   ]
  },
  {
   "cell_type": "code",
   "execution_count": 80,
   "metadata": {},
   "outputs": [
    {
     "data": {
      "application/vnd.jupyter.widget-view+json": {
       "model_id": "6cf8a96d667a45d4ab98d32434d8a238",
       "version_major": 2,
       "version_minor": 0
      },
      "text/plain": [
       "FloatProgress(value=0.0, layout=Layout(width='auto'), style=ProgressStyle(bar_color='black'))"
      ]
     },
     "metadata": {},
     "output_type": "display_data"
    }
   ],
   "source": [
    "duck.query(\"\"\"\n",
    "    create table reviews as\n",
    "    select\n",
    "        u.id as user_id\n",
    "        , rn.parent_asin\n",
    "        , rn.review_timestamp\n",
    "        , rn.rating\n",
    "        , rn.helpful_vote\n",
    "        , rn.verified_purchase\n",
    "    from reviews_net rn\n",
    "        left join users u on rn.user_id=u.user_id\n",
    "    order by review_timestamp\n",
    "\"\"\")"
   ]
  },
  {
   "cell_type": "code",
   "execution_count": 46,
   "metadata": {},
   "outputs": [
    {
     "data": {
      "text/plain": [
       "3876.1126098632812"
      ]
     },
     "execution_count": 46,
     "metadata": {},
     "output_type": "execute_result"
    }
   ],
   "source": [
    "duck.query(\"\"\"\n",
    "    select *\n",
    "    from reviews_net\n",
    "\"\"\").pl().estimated_size('mb')"
   ]
  },
  {
   "cell_type": "code",
   "execution_count": 83,
   "metadata": {},
   "outputs": [
    {
     "data": {
      "text/plain": [
       "1811.6885948181152"
      ]
     },
     "execution_count": 83,
     "metadata": {},
     "output_type": "execute_result"
    }
   ],
   "source": [
    "duck.query(\"\"\"\n",
    "    select *\n",
    "    from reviews\n",
    "\"\"\").pl().estimated_size('mb')"
   ]
  },
  {
   "cell_type": "code",
   "execution_count": null,
   "metadata": {},
   "outputs": [],
   "source": []
  },
  {
   "cell_type": "markdown",
   "metadata": {},
   "source": [
    "## Создаём таблицу продуктов"
   ]
  },
  {
   "cell_type": "code",
   "execution_count": 12,
   "metadata": {},
   "outputs": [
    {
     "data": {
      "text/plain": [
       "{WindowsPath('parsed_files/meta/meta_Amazon_Fashion.parquet'),\n",
       " WindowsPath('parsed_files/meta/meta_art.parquet'),\n",
       " WindowsPath('parsed_files/meta/meta_Baby_Products.parquet'),\n",
       " WindowsPath('parsed_files/meta/meta_Grocery_and_Gourmet_Food.parquet'),\n",
       " WindowsPath('parsed_files/meta/meta_Handmade_Products.parquet'),\n",
       " WindowsPath('parsed_files/meta/meta_Industrial_and_Scientific.parquet'),\n",
       " WindowsPath('parsed_files/meta/meta_Magazine_Subscriptions.parquet'),\n",
       " WindowsPath('parsed_files/meta/meta_Musical_Instruments.parquet'),\n",
       " WindowsPath('parsed_files/meta/meta_Software.parquet')}"
      ]
     },
     "execution_count": 12,
     "metadata": {},
     "output_type": "execute_result"
    }
   ],
   "source": [
    "meta_files"
   ]
  },
  {
   "cell_type": "code",
   "execution_count": 36,
   "metadata": {},
   "outputs": [
    {
     "data": {
      "text/plain": [
       "[WindowsPath('parsed_files/meta/meta_Baby_Products.parquet'),\n",
       " WindowsPath('parsed_files/meta/meta_Software.parquet'),\n",
       " WindowsPath('parsed_files/meta/meta_Industrial_and_Scientific.parquet'),\n",
       " WindowsPath('parsed_files/meta/meta_Grocery_and_Gourmet_Food.parquet'),\n",
       " WindowsPath('parsed_files/meta/meta_Handmade_Products.parquet'),\n",
       " WindowsPath('parsed_files/meta/meta_art.parquet'),\n",
       " WindowsPath('parsed_files/meta/meta_Musical_Instruments.parquet'),\n",
       " WindowsPath('parsed_files/meta/meta_Magazine_Subscriptions.parquet'),\n",
       " WindowsPath('parsed_files/meta/meta_Amazon_Fashion.parquet')]"
      ]
     },
     "execution_count": 36,
     "metadata": {},
     "output_type": "execute_result"
    }
   ],
   "source": [
    "mfiles = list(meta_files)[1:]+[list(meta_files)[0]]\n",
    "mfiles"
   ]
  },
  {
   "cell_type": "code",
   "execution_count": 37,
   "metadata": {},
   "outputs": [
    {
     "data": {
      "application/vnd.jupyter.widget-view+json": {
       "model_id": "4f33799123704a2284ad6051a679eecd",
       "version_major": 2,
       "version_minor": 0
      },
      "text/plain": [
       "FloatProgress(value=0.0, layout=Layout(width='auto'), style=ProgressStyle(bar_color='black'))"
      ]
     },
     "metadata": {},
     "output_type": "display_data"
    }
   ],
   "source": [
    "duck.query(f\"\"\"\n",
    "    create table raw_items as\n",
    "    select *\n",
    "    from parquet_scan({[str(x) for x in mfiles]}, hive_partitioning=True)\n",
    "\"\"\")"
   ]
  },
  {
   "cell_type": "code",
   "execution_count": 39,
   "metadata": {},
   "outputs": [
    {
     "name": "stdout",
     "output_type": "stream",
     "text": [
      "┌──────────────────────┬──────────────────────┬──────────────────────┬──────────────────────┬────────┬──────────────────────┬────────┬──────────────────────┬──────────────────────┬─────────────────────────────────────────────────────────────────────────────────────────────────────────────────────────────────────────────────────────────────────────────────────────────────────────────────────────────────────────────────────────────────────────────────────────────────────┬─────────────┬───────────┐\n",
      "│    main_category     │        title         │       features       │     description      │ price  │        images        │ videos │        store         │      categories      │                                                                                                                                               details                                                                                                                                               │ parent_asin │ has_image │\n",
      "│       varchar        │       varchar        │       varchar        │       varchar        │ double │       varchar        │ int64  │       varchar        │       varchar        │                                                                                                                                               varchar                                                                                                                                               │   varchar   │   int64   │\n",
      "├──────────────────────┼──────────────────────┼──────────────────────┼──────────────────────┼────────┼──────────────────────┼────────┼──────────────────────┼──────────────────────┼─────────────────────────────────────────────────────────────────────────────────────────────────────────────────────────────────────────────────────────────────────────────────────────────────────────────────────────────────────────────────────────────────────────────────────────────────────┼─────────────┼───────────┤\n",
      "│ Baby                 │ Chicco Viaro Trave…  │ Aluminum;Imported;…  │ Product Descriptio…  │   NULL │ https://m.media-am…  │      1 │ Chicco               │ Strollers & Access…  │ Product Dimensions:38 x 41.25 x 25.5 inches;Item model number:06079747300070;Is Discontinued By Manufacturer:No;Target gender:Unisex;Minimum weight recommendation:4 Pounds;Maximum weight recommendation:50 Pounds;Material Type:Aluminum;Number Of Items:1;Style:Teak;Batteries required:No;Har…  │ B01C4319LO  │         1 │\n",
      "│ AMAZON FASHION       │ Kisbaby Four Layer…  │ 95% Cotton, 4 Laye…  │ You can choose big…  │   NULL │ https://m.media-am…  │      0 │ Kisbaby              │ Nursery;Bedding;Bl…  │ Material:Muslin;Color:Blue Star;Brand:Kisbaby;Special Feature:Lightweight, Breathable;Style:Modern;Is Discontinued By Manufacturer:No;Package Dimensions:9.37 x 9.13 x 1.93 inches; 5.68 Ounces;Department:Baby-boys;Date First Available:May 20, 2018;Manufacturer:Kisbaby                         │ B07FM4MJJP  │         1 │\n",
      "│ Baby                 │ EZTOTZ Meals with …  │ WHAT IS MILTON?: M…  │ NULL                 │  22.99 │ https://m.media-am…  │      0 │ EZTOTZ               │ NULL                 │ Package Dimensions:6.3 x 5 x 4.76 inches;Item model number:MIL-P;Number Of Items:1;Batteries required:No;Item Weight:8.1 ounces                                                                                                                                                                     │ B08WCG372G  │         1 │\n",
      "│ Baby                 │ Nuby iMonster Todd…  │ Makes feeding fun …  │ When babies begin …  │   NULL │ https://m.media-am…  │      0 │ Nuby                 │ Feeding;Solid Feed…  │ Product Dimensions:2.75 x 5 x 7.5 inches;Item model number:22030;Target gender:Unisex;Number Of Items:1;Batteries required:No;Item Weight:2.39 ounces;Best Sellers Rank:{'Baby': 126732, 'Toddler Dishes': 1322, 'Toddler Utensils': 1591}                                                          │ B0083SXABC  │         1 │\n",
      "│ Amazon Home          │ mDesign Slim Stora…  │ SMART STORAGE: Thi…  │ The mDesign clear …  │   NULL │ https://m.media-am…  │      0 │ mDesign              │ Nursery;Furniture;…  │ Product Dimensions:14.62 x 4 x 4 inches;Item Weight:0.37 Kilograms;Manufacturer:MetroDecor;Item model number:04685MDBEU;Best Sellers Rank:{'Baby': 74396, 'Nursery Bins & Boxes': 977};Number of pieces:2;Batteries required:No;Color:Clear/Blue;Material:Plastic;Item Dimensions LxWxH:14.62 x 4…  │ B07N8GRHHK  │         1 │\n",
      "│ Health & Personal …  │ Kandoo Wet Wipes     │ Beauty products;We…  │ Kandoo beauty prod…  │   NULL │ https://m.media-am…  │      0 │ Kandoo               │ Diapering;Wipes & …  │ Brand:Kandoo;Unit Count:1 Count;Number of Items:1;Item Form:Wipes;Item Dimensions LxWxH:3.15 x 1.97 x 9.84 inches;Is Discontinued By Manufacturer:No;Product Dimensions:3.15 x 1.97 x 9.84 inches; 0.01 Ounces;Item model number:8410108065856;Date First Available:September 23, 2019;Manufactur…  │ B00ITJD0U6  │         1 │\n",
      "│ Baby                 │ XMWEALTHY Unisex I…  │ Outside 100% Acryl…  │ NULL                 │  28.99 │ https://m.media-am…  │      1 │ XMWEALTHY            │ Nursery;Bedding;Bl…  │ Material:Wool, Fleece;Color:Light Pink;Brand:XMWEALTHY;Special Feature:Carry-On;Style:Modern;Blanket Form:Swaddle;Age Range (Description):Baby;Product Dimensions:3.94 x 3.94 x 1.18 inches;Theme:Plain;Pattern:Paisley;Size:29.5x13.8 Inch (Pack of 1);Fabric Type:Outside 100% Acrylic, Inside …  │ B07JM4RK9T  │         1 │\n",
      "│ AMAZON FASHION       │ Carter's \"Lexingto…  │ NULL                 │ NULL                 │   NULL │ https://m.media-am…  │      0 │ Carter's             │ Diapering;Diaper B…  │ Package Dimensions:17.4 x 11.5 x 3.3 inches; 1.95 Pounds;Date First Available:November 7, 2012                                                                                                                                                                                                      │ B00A30FUCU  │         1 │\n",
      "│ Baby                 │ Baby Clothing Flow…  │ Deluxe Baby Blosso…  │ NULL                 │  55.99 │ https://m.media-am…  │      1 │ Nikki's Gift Baskets │ Gifts;Gift Sets      │ Product Dimensions:8\"D x 8\"W x 12\"H;Item model number:1962;Is Discontinued By Manufacturer:No;Target gender:Female;Material Type:Cotton;Additional product features:Baby Shower;Number Of Items:1;Best uses:new baby gift;Batteries required:No;Item Weight:1.85 pounds;Best Sellers Rank:{'Baby'…  │ B074553VVR  │         1 │\n",
      "│ Baby                 │ Cloele Kids Toddle…  │ 100% Cotton;1.Todd…  │ NULL                 │   5.99 │ https://m.media-am…  │      1 │ Cloele               │ Nursery;Bedding;To…  │ Brand:Cloele;Material:Cotton;Size:13\"x18\";Product Dimensions:18\"L x 13\"W;Color:Blue Dog;Closure Type:Envelope;Product Care Instructions:Machine Wash;Style:Modern;Pattern:Animal Print;Number of Items:1;Fabric Type:100% Cotton;Number of Pieces:1;Material Type:Cotton;Batteries required:No;It…  │ B08F1VWF5P  │         1 │\n",
      "│  ·                   │          ·           │  ·                   │  ·                   │     ·  │          ·           │      · │   ·                  │          ·           │                                                                                                                                                  ·                                                                                                                                                  │     ·       │         · │\n",
      "│  ·                   │          ·           │  ·                   │  ·                   │     ·  │          ·           │      · │   ·                  │          ·           │                                                                                                                                                  ·                                                                                                                                                  │     ·       │         · │\n",
      "│  ·                   │          ·           │  ·                   │  ·                   │     ·  │          ·           │      · │   ·                  │          ·           │                                                                                                                                                  ·                                                                                                                                                  │     ·       │         · │\n",
      "│ Baby                 │ ESSSHOP Baby Tags …  │ NULL                 │ NULL                 │   NULL │ https://m.media-am…  │      0 │ ESSSHOP              │ Baby Care;Pacifier…  │ Material:Cotton;Brand:ESSSHOP;Style:Modern;Blanket Form:Comforter;Age Range (Description):Baby;Product Dimensions:10.2 x 7.9 x 1 inches;Size:7.9x10.2 Inch (Pack of 1);Number of Items:1;Item model number:TOWEL-G2;Material Type:Cotton;Batteries required:No;Item Weight:1.58 ounces;Best Selle…  │ B08C7GKT12  │         1 │\n",
      "│ Amazon Home          │ 200 Pieces Rose Go…  │ NULL                 │ NULL                 │   NULL │ https://m.media-am…  │      0 │ Mudder               │ Nursery;Décor;Wall…  │ Brand:Mudder;Surface Recommendation:Wall;Room Type:Bedroom;Material:Glass, Iron, Plastic, Metal;Theme:Holiday;Number of Pieces:200;Installation Type:Adhesive;Reusability:Single Use;Shape:Round;Unit Count:200.0 Count;Package Dimensions:6.77 x 5.83 x 1.57 inches;Item Weight:7.7 ounces;Date …  │ B088ZBQS1Z  │         1 │\n",
      "│ Baby                 │ 6 Piece Silicone B…  │ Silicone Children'…  │ NULL                 │   6.99 │ https://m.media-am…  │      1 │ Kalovin              │ Feeding;Solid Feed…  │ Package Dimensions:4.84 x 1.65 x 0.7 inches;Item model number:BFS-Bright Color;Target gender:Unisex;Care instructions:Clean after Use;Batteries required:No;Item Weight:2.8 ounces;Best Sellers Rank:{'Baby': 39079, 'Toddler Spoons': 148}                                                         │ B0BC15487K  │         1 │\n",
      "│ Sports & Outdoors    │ Storage Bag ,IEaso…  │ NULL                 │ NULL                 │   NULL │ https://m.media-am…  │      0 │ IEason               │ Nursery;Furniture;…  │ Brand Name:IEason;Material:Non woven fabric;Part Number:IEason;Date First Available:February 1, 2017;Brand:IEason;Number of Sets:1                                                                                                                                                                  │ B074KDGFZS  │         1 │\n",
      "│ Baby                 │ Video Baby Monitor…  │ Sweet Dreams on th…  │ NULL                 │  95.99 │ https://m.media-am…  │      1 │ Amazon Renewed       │ Safety;Monitors      │ Product Dimensions:4.15 x 3.2 x 3.2 inches;Batteries:1 Lithium Polymer batteries required. (included);Is Discontinued By Manufacturer:No;Target gender:Unisex;Additional product features:Portable, Night Vision, Image, Motion Sensor;Number Of Items:1;Style:Baby monitor;Compatible products:S…  │ B084JCHZ27  │         1 │\n",
      "│ Baby                 │ Luxe Basics So Sof…  │ 100% Polyester;Mad…  │ For sweet dreams a…  │   NULL │ https://m.media-am…  │      0 │ Luxe Basics          │ Nursery;Bedding;Ba…  │ Color:Lavender;Material:Polyester;Fabric Type:100% Polyester;Pattern:Solid;Brand:Luxe Basics;Product Care Instructions:Machine Wash;Product Dimensions:11.1 x 9 x 3.5 inches;Item model number:400801;Material Type:Polyester;Batteries required:No;Item Weight:1.15 pounds                         │ B006G9H30E  │         1 │\n",
      "│ Baby                 │ HIPHOP PANDA Baby …  │ Front is 100% Bamb…  │ 🍃【COZY BAMBOO FI…  │  19.99 │ https://m.media-am…  │      1 │ HIPHOP PANDA         │ Nursery;Bedding;Ma…  │ Brand:HIPHOP PANDA;Color:White;Size:28x52 Inch (Pack of 1);Fabric Type:Front is 100% Bamboo - Back is 100% Waterproof Polyurethane;Special Feature:Water Proof, Washable;Closure Type:Pull On;Care instructions:Machine Wash;Water Resistance Level:Waterproof;Age Range (Description):Baby;Mater…  │ B09MLDQD2M  │         1 │\n",
      "│ Health & Personal …  │ Breast Pump Bag Ba…  │ 🍼PORTABLE DESIGN …  │ NULL                 │  32.98 │ https://m.media-am…  │      1 │ MOMIGO               │ Feeding;Breastfeed…  │ Package Dimensions:13.54 x 9.65 x 6.5 inches;Item model number:car-bnb002-blk-l;Additional product features:Lightweight;Style:Travel Backpacks;Best uses:Travel;Batteries required:No;Dishwasher safe:Yes;Item Weight:1.04 pounds;Best Sellers Rank:{'Baby': 16876, 'Breast Pump Accessories': 22…  │ B07ZH5FTJJ  │         1 │\n",
      "│ Baby                 │ phil&teds Storm Co…  │ Polyester 50%/PVC …  │ Protect your child…  │   NULL │ https://m.media-am…  │      0 │ phil&teds            │ Strollers & Access…  │ Product Dimensions:15 x 9 x 3 inches;Item model number:PRS_V1_9999_200_USA;Target gender:Unisex;Batteries required:No;Item Weight:14.9 ounces;Best Sellers Rank:{'Baby': 187873, 'Baby Stroller Weather Shields': 544};Brand:Phil&teds;Item Dimensions LxWxH:15 x 9 x 3 inches;Closure Type:Zippe…  │ B006G6KOQ2  │         1 │\n",
      "│ Baby                 │ Vaenait Baby Boys …  │ NULL                 │ NULL                 │   NULL │ https://m.media-am…  │      0 │ NULL                 │ Nursery;Bedding;Bl…  │ Package Dimensions:12.8 x 6.4 x 1.9 inches;Item model number:FBA_SS_010-2;Item Weight:6.4 ounces                                                                                                                                                                                                    │ B00O9W7NDM  │         1 │\n",
      "├──────────────────────┴──────────────────────┴──────────────────────┴──────────────────────┴────────┴──────────────────────┴────────┴──────────────────────┴──────────────────────┴─────────────────────────────────────────────────────────────────────────────────────────────────────────────────────────────────────────────────────────────────────────────────────────────────────────────────────────────────────────────────────────────────────────────────────────────────────┴─────────────┴───────────┤\n",
      "│ 100 rows (20 shown)                                                                                                                                                                                                                                                                                                                                                                                                                                                                                   12 columns │\n",
      "└──────────────────────────────────────────────────────────────────────────────────────────────────────────────────────────────────────────────────────────────────────────────────────────────────────────────────────────────────────────────────────────────────────────────────────────────────────────────────────────────────────────────────────────────────────────────────────────────────────────────────────────────────────────────────────────────────────────────────────────────────────────────────┘\n",
      "\n"
     ]
    }
   ],
   "source": [
    "duck.query(\"\"\"\n",
    "    select *\n",
    "    from raw_items\n",
    "    limit 100\n",
    "\"\"\").show(max_width=500)"
   ]
  },
  {
   "cell_type": "code",
   "execution_count": 41,
   "metadata": {},
   "outputs": [
    {
     "data": {
      "text/plain": [
       "┌──────────────┬─────────────────────────────┐\n",
       "│ count_star() │ count(DISTINCT parent_asin) │\n",
       "│    int64     │            int64            │\n",
       "├──────────────┼─────────────────────────────┤\n",
       "│      3347168 │                     3347168 │\n",
       "└──────────────┴─────────────────────────────┘"
      ]
     },
     "execution_count": 41,
     "metadata": {},
     "output_type": "execute_result"
    }
   ],
   "source": [
    "duck.query(\"\"\"\n",
    "    select\n",
    "        count(*)\n",
    "        , count(distinct parent_asin)\n",
    "    from raw_items\n",
    "\"\"\")"
   ]
  },
  {
   "cell_type": "code",
   "execution_count": 58,
   "metadata": {},
   "outputs": [],
   "source": [
    "duck.query(f\"\"\"\n",
    "    drop sequence seq_id;\n",
    "    create sequence seq_id start 1;\n",
    "    create table products as\n",
    "    with\n",
    "    base as (\n",
    "        select distinct \n",
    "           parent_asin\n",
    "           , title\n",
    "           , images\n",
    "        from raw_items\n",
    "    )\n",
    "    select\n",
    "        nextval('seq_id') as product_id\n",
    "        , parent_asin\n",
    "        , title\n",
    "        , images\n",
    "    from base\n",
    "\"\"\")"
   ]
  },
  {
   "cell_type": "code",
   "execution_count": 50,
   "metadata": {},
   "outputs": [],
   "source": [
    "duck.query(f\"\"\"\n",
    "    drop sequence seq_id;\n",
    "    create sequence seq_id start 1;\n",
    "    create table stores as\n",
    "    with\n",
    "    base as (\n",
    "        select distinct store\n",
    "        from raw_items\n",
    "    )\n",
    "    select\n",
    "        nextval('seq_id') as store_id\n",
    "        , store\n",
    "    from base\n",
    "\"\"\")"
   ]
  },
  {
   "cell_type": "code",
   "execution_count": 55,
   "metadata": {},
   "outputs": [],
   "source": [
    "duck.query(f\"\"\"\n",
    "    drop sequence seq_id;\n",
    "    create sequence seq_id start 1;\n",
    "    create table categories as\n",
    "    with\n",
    "    base as (\n",
    "        select distinct main_category\n",
    "        from raw_items\n",
    "    )\n",
    "    select\n",
    "        nextval('seq_id') as category_id\n",
    "        , main_category\n",
    "    from base\n",
    "\"\"\")"
   ]
  },
  {
   "cell_type": "code",
   "execution_count": 44,
   "metadata": {},
   "outputs": [
    {
     "data": {
      "text/plain": [
       "Index(['main_category', 'title', 'features', 'description', 'price', 'images',\n",
       "       'videos', 'store', 'categories', 'details', 'parent_asin', 'has_image'],\n",
       "      dtype='object')"
      ]
     },
     "execution_count": 44,
     "metadata": {},
     "output_type": "execute_result"
    }
   ],
   "source": [
    "duck.query(\"select * from raw_items limit 1\").to_df().columns"
   ]
  },
  {
   "cell_type": "code",
   "execution_count": null,
   "metadata": {},
   "outputs": [],
   "source": [
    "['main_category', 'title', 'features', 'description', 'price', 'images',\n",
    "       'videos', 'store', 'categories', 'details', 'parent_asin', 'has_image']"
   ]
  },
  {
   "cell_type": "code",
   "execution_count": null,
   "metadata": {},
   "outputs": [],
   "source": [
    "['videos', 'details', 'parent_asin', 'has_image']"
   ]
  },
  {
   "cell_type": "code",
   "execution_count": null,
   "metadata": {},
   "outputs": [],
   "source": []
  },
  {
   "cell_type": "code",
   "execution_count": 9,
   "metadata": {},
   "outputs": [
    {
     "data": {
      "text/plain": [
       "┌────────────┬─────────────┬───────────────────────────────────────────────────────────────────────────────────────────┐\n",
       "│ product_id │ category_id │                                        description                                        │\n",
       "│   int64    │    int64    │                                          varchar                                          │\n",
       "├────────────┼─────────────┼───────────────────────────────────────────────────────────────────────────────────────────┤\n",
       "│       4097 │          35 │ NULL                                                                                      │\n",
       "│       4097 │           1 │ Great tasting CarbSport is a complete sports drink that helps prevent muscle cramps whi…  │\n",
       "│       4097 │          35 │ Add delicious flavor to everything you bake this holiday.                                 │\n",
       "│       4097 │          35 │ As we have all seen and heard, Sriracha is the \"it\" hot sauce! And, it is great! It is …  │\n",
       "│       4097 │           1 │ NULL                                                                                      │\n",
       "│       4097 │          35 │ Quest Nutrition Protein Bar, Chocolate Brownie, 20g Protein, 4g Net Carbs, 180 Cals, 2.…  │\n",
       "│       4097 │          35 │ NULL                                                                                      │\n",
       "│       4097 │          35 │ Yuban, Dark Roast Ground Coffee, 29oz Canister                                            │\n",
       "│       4097 │          35 │ NULL                                                                                      │\n",
       "│       4097 │          35 │ A devilishly good pickle so tasty it's almost sinful!                                     │\n",
       "│         ·  │           · │                           ·                                                               │\n",
       "│         ·  │           · │                           ·                                                               │\n",
       "│         ·  │           · │                           ·                                                               │\n",
       "│       4097 │          28 │ Just flip the bottle and make the bottle stand flat on the table to earn score. Get to …  │\n",
       "│       4097 │          28 │ There are two characters in this game. One is red ball and the other is blue ball. All …  │\n",
       "│       4097 │          17 │ Bitdefender Antivirus Plus 2015 builds on technology awarded by AV-TEST Best Protection…  │\n",
       "│       4097 │          28 │ HalnaMind is an idea mapping app.You can place your ideas as topics on the screen, to v…  │\n",
       "│       4097 │          28 │ The Psychiatry App contains comprehensive guidelines on important and commonly seen psy…  │\n",
       "│       4097 │          17 │ With 300+ supported VPN Gateways, the latest security standards and unique organization…  │\n",
       "│       4097 │          17 │ Happy Feet Two Wii                                                                        │\n",
       "│       4097 │          28 │ Jottacloud for Android let's you automatically synchronize your contacts, photos, video…  │\n",
       "│       4097 │          28 │ Best NBA Wallpaper in HD!.Update: October 05, 2019- We are done updating our database s…  │\n",
       "│       4097 │          28 │ All around the world’s currencies at your fingertips! Currency converter contains 160+ …  │\n",
       "├────────────┴─────────────┴───────────────────────────────────────────────────────────────────────────────────────────┤\n",
       "│ ? rows (>9999 rows, 20 shown)                                                                              3 columns │\n",
       "└──────────────────────────────────────────────────────────────────────────────────────────────────────────────────────┘"
      ]
     },
     "execution_count": 9,
     "metadata": {},
     "output_type": "execute_result"
    }
   ],
   "source": [
    "duck.query(\"\"\"\n",
    "    --create table descriptions as\n",
    "    select\n",
    "        p.product_id\n",
    "        , c.category_id\n",
    "        , ri.description\n",
    "    from raw_items ri\n",
    "        left join products p on ri.parent_asin=ri.parent_asin\n",
    "        --left join stores s on ri.store=s.store\n",
    "        left join categories c on ri.main_category=c.main_category\n",
    "\"\"\")"
   ]
  },
  {
   "cell_type": "code",
   "execution_count": null,
   "metadata": {},
   "outputs": [],
   "source": []
  },
  {
   "cell_type": "code",
   "execution_count": 7,
   "metadata": {},
   "outputs": [],
   "source": [
    "from sklearn.feature_extraction.text import TfidfVectorizer"
   ]
  },
  {
   "cell_type": "code",
   "execution_count": 8,
   "metadata": {},
   "outputs": [],
   "source": [
    "vectorizer = TfidfVectorizer(min_df=.1, max_df=.8)"
   ]
  },
  {
   "cell_type": "code",
   "execution_count": 9,
   "metadata": {},
   "outputs": [
    {
     "data": {
      "application/vnd.jupyter.widget-view+json": {
       "model_id": "6435370c3e8341e5a994e6408bf561db",
       "version_major": 2,
       "version_minor": 0
      },
      "text/plain": [
       "FloatProgress(value=0.0, layout=Layout(width='auto'), style=ProgressStyle(bar_color='black'))"
      ]
     },
     "metadata": {},
     "output_type": "display_data"
    }
   ],
   "source": [
    "vectorized_data = vectorizer.fit_transform(\n",
    "    duck.query(\"\"\"\n",
    "        select concat_ws(';', categories, features, description, details) as txt \n",
    "        from raw_items\n",
    "    \"\"\").to_df()['txt'].fillna('')\n",
    ")"
   ]
  },
  {
   "cell_type": "code",
   "execution_count": 10,
   "metadata": {},
   "outputs": [
    {
     "data": {
      "text/plain": [
       "array(['10', '100', '11', '12', '13', '14', '15', 'all', 'also', 'an',\n",
       "       'and', 'any', 'are', 'arts', 'as', 'at', 'available', 'be', 'best',\n",
       "       'brand', 'by', 'can', 'color', 'crafts', 'date', 'design',\n",
       "       'dimensions', 'discontinued', 'each', 'easy', 'first', 'for',\n",
       "       'free', 'from', 'great', 'hand', 'has', 'have', 'high', 'in',\n",
       "       'inches', 'included', 'is', 'it', 'item', 'items', 'made', 'make',\n",
       "       'manufacturer', 'material', 'may', 'model', 'more', 'no', 'not',\n",
       "       'number', 'of', 'on', 'one', 'only', 'or', 'other', 'ounces',\n",
       "       'our', 'package', 'perfect', 'pieces', 'pounds', 'product',\n",
       "       'products', 'quality', 'range', 'rank', 'required', 'sellers',\n",
       "       'sewing', 'size', 'style', 'supplies', 'that', 'the', 'these',\n",
       "       'this', 'time', 'to', 'type', 'up', 'upc', 'use', 'used', 'we',\n",
       "       'weight', 'will', 'with', 'you', 'your'], dtype=object)"
      ]
     },
     "execution_count": 10,
     "metadata": {},
     "output_type": "execute_result"
    }
   ],
   "source": [
    "vectorizer.get_feature_names_out()"
   ]
  },
  {
   "cell_type": "code",
   "execution_count": 11,
   "metadata": {},
   "outputs": [
    {
     "data": {
      "text/html": [
       "<div>\n",
       "<style scoped>\n",
       "    .dataframe tbody tr th:only-of-type {\n",
       "        vertical-align: middle;\n",
       "    }\n",
       "\n",
       "    .dataframe tbody tr th {\n",
       "        vertical-align: top;\n",
       "    }\n",
       "\n",
       "    .dataframe thead th {\n",
       "        text-align: right;\n",
       "    }\n",
       "</style>\n",
       "<table border=\"1\" class=\"dataframe\">\n",
       "  <thead>\n",
       "    <tr style=\"text-align: right;\">\n",
       "      <th></th>\n",
       "      <th>10</th>\n",
       "      <th>100</th>\n",
       "      <th>11</th>\n",
       "      <th>12</th>\n",
       "      <th>13</th>\n",
       "      <th>14</th>\n",
       "      <th>15</th>\n",
       "      <th>all</th>\n",
       "      <th>also</th>\n",
       "      <th>an</th>\n",
       "      <th>...</th>\n",
       "      <th>up</th>\n",
       "      <th>upc</th>\n",
       "      <th>use</th>\n",
       "      <th>used</th>\n",
       "      <th>we</th>\n",
       "      <th>weight</th>\n",
       "      <th>will</th>\n",
       "      <th>with</th>\n",
       "      <th>you</th>\n",
       "      <th>your</th>\n",
       "    </tr>\n",
       "  </thead>\n",
       "  <tbody>\n",
       "    <tr>\n",
       "      <th>0</th>\n",
       "      <td>0.0</td>\n",
       "      <td>0.000000</td>\n",
       "      <td>0.000000</td>\n",
       "      <td>0.000000</td>\n",
       "      <td>0.063669</td>\n",
       "      <td>0.000000</td>\n",
       "      <td>0.000000</td>\n",
       "      <td>0.000000</td>\n",
       "      <td>0.000000</td>\n",
       "      <td>0.000000</td>\n",
       "      <td>...</td>\n",
       "      <td>0.063094</td>\n",
       "      <td>0.0</td>\n",
       "      <td>0.000000</td>\n",
       "      <td>0.000000</td>\n",
       "      <td>0.000000</td>\n",
       "      <td>0.187570</td>\n",
       "      <td>0.000000</td>\n",
       "      <td>0.257043</td>\n",
       "      <td>0.000000</td>\n",
       "      <td>0.000000</td>\n",
       "    </tr>\n",
       "    <tr>\n",
       "      <th>1</th>\n",
       "      <td>0.0</td>\n",
       "      <td>0.000000</td>\n",
       "      <td>0.000000</td>\n",
       "      <td>0.266361</td>\n",
       "      <td>0.078415</td>\n",
       "      <td>0.000000</td>\n",
       "      <td>0.000000</td>\n",
       "      <td>0.128667</td>\n",
       "      <td>0.000000</td>\n",
       "      <td>0.000000</td>\n",
       "      <td>...</td>\n",
       "      <td>0.466244</td>\n",
       "      <td>0.0</td>\n",
       "      <td>0.064387</td>\n",
       "      <td>0.000000</td>\n",
       "      <td>0.000000</td>\n",
       "      <td>0.184810</td>\n",
       "      <td>0.000000</td>\n",
       "      <td>0.000000</td>\n",
       "      <td>0.111681</td>\n",
       "      <td>0.109124</td>\n",
       "    </tr>\n",
       "    <tr>\n",
       "      <th>2</th>\n",
       "      <td>0.0</td>\n",
       "      <td>0.072317</td>\n",
       "      <td>0.000000</td>\n",
       "      <td>0.000000</td>\n",
       "      <td>0.000000</td>\n",
       "      <td>0.000000</td>\n",
       "      <td>0.000000</td>\n",
       "      <td>0.062288</td>\n",
       "      <td>0.303192</td>\n",
       "      <td>0.140759</td>\n",
       "      <td>...</td>\n",
       "      <td>0.000000</td>\n",
       "      <td>0.0</td>\n",
       "      <td>0.062340</td>\n",
       "      <td>0.000000</td>\n",
       "      <td>0.146851</td>\n",
       "      <td>0.044734</td>\n",
       "      <td>0.000000</td>\n",
       "      <td>0.087575</td>\n",
       "      <td>0.162197</td>\n",
       "      <td>0.211311</td>\n",
       "    </tr>\n",
       "    <tr>\n",
       "      <th>3</th>\n",
       "      <td>0.0</td>\n",
       "      <td>0.000000</td>\n",
       "      <td>0.000000</td>\n",
       "      <td>0.000000</td>\n",
       "      <td>0.000000</td>\n",
       "      <td>0.000000</td>\n",
       "      <td>0.000000</td>\n",
       "      <td>0.000000</td>\n",
       "      <td>0.130995</td>\n",
       "      <td>0.000000</td>\n",
       "      <td>...</td>\n",
       "      <td>0.000000</td>\n",
       "      <td>0.0</td>\n",
       "      <td>0.215473</td>\n",
       "      <td>0.000000</td>\n",
       "      <td>0.000000</td>\n",
       "      <td>0.077309</td>\n",
       "      <td>0.000000</td>\n",
       "      <td>0.075674</td>\n",
       "      <td>0.000000</td>\n",
       "      <td>0.182595</td>\n",
       "    </tr>\n",
       "    <tr>\n",
       "      <th>4</th>\n",
       "      <td>0.0</td>\n",
       "      <td>0.000000</td>\n",
       "      <td>0.000000</td>\n",
       "      <td>0.000000</td>\n",
       "      <td>0.000000</td>\n",
       "      <td>0.150672</td>\n",
       "      <td>0.000000</td>\n",
       "      <td>0.079568</td>\n",
       "      <td>0.000000</td>\n",
       "      <td>0.000000</td>\n",
       "      <td>...</td>\n",
       "      <td>0.000000</td>\n",
       "      <td>0.0</td>\n",
       "      <td>0.079634</td>\n",
       "      <td>0.048616</td>\n",
       "      <td>0.046898</td>\n",
       "      <td>0.057144</td>\n",
       "      <td>0.000000</td>\n",
       "      <td>0.055935</td>\n",
       "      <td>0.172661</td>\n",
       "      <td>0.101225</td>\n",
       "    </tr>\n",
       "    <tr>\n",
       "      <th>...</th>\n",
       "      <td>...</td>\n",
       "      <td>...</td>\n",
       "      <td>...</td>\n",
       "      <td>...</td>\n",
       "      <td>...</td>\n",
       "      <td>...</td>\n",
       "      <td>...</td>\n",
       "      <td>...</td>\n",
       "      <td>...</td>\n",
       "      <td>...</td>\n",
       "      <td>...</td>\n",
       "      <td>...</td>\n",
       "      <td>...</td>\n",
       "      <td>...</td>\n",
       "      <td>...</td>\n",
       "      <td>...</td>\n",
       "      <td>...</td>\n",
       "      <td>...</td>\n",
       "      <td>...</td>\n",
       "      <td>...</td>\n",
       "      <td>...</td>\n",
       "    </tr>\n",
       "    <tr>\n",
       "      <th>3347163</th>\n",
       "      <td>0.0</td>\n",
       "      <td>0.000000</td>\n",
       "      <td>0.670250</td>\n",
       "      <td>0.000000</td>\n",
       "      <td>0.000000</td>\n",
       "      <td>0.000000</td>\n",
       "      <td>0.367252</td>\n",
       "      <td>0.000000</td>\n",
       "      <td>0.000000</td>\n",
       "      <td>0.000000</td>\n",
       "      <td>...</td>\n",
       "      <td>0.000000</td>\n",
       "      <td>0.0</td>\n",
       "      <td>0.000000</td>\n",
       "      <td>0.000000</td>\n",
       "      <td>0.000000</td>\n",
       "      <td>0.000000</td>\n",
       "      <td>0.000000</td>\n",
       "      <td>0.000000</td>\n",
       "      <td>0.000000</td>\n",
       "      <td>0.000000</td>\n",
       "    </tr>\n",
       "    <tr>\n",
       "      <th>3347164</th>\n",
       "      <td>0.0</td>\n",
       "      <td>0.086275</td>\n",
       "      <td>0.083437</td>\n",
       "      <td>0.076919</td>\n",
       "      <td>0.000000</td>\n",
       "      <td>0.000000</td>\n",
       "      <td>0.000000</td>\n",
       "      <td>0.074311</td>\n",
       "      <td>0.000000</td>\n",
       "      <td>0.000000</td>\n",
       "      <td>...</td>\n",
       "      <td>0.000000</td>\n",
       "      <td>0.0</td>\n",
       "      <td>0.000000</td>\n",
       "      <td>0.000000</td>\n",
       "      <td>0.000000</td>\n",
       "      <td>0.000000</td>\n",
       "      <td>0.154733</td>\n",
       "      <td>0.261199</td>\n",
       "      <td>0.129003</td>\n",
       "      <td>0.126049</td>\n",
       "    </tr>\n",
       "    <tr>\n",
       "      <th>3347165</th>\n",
       "      <td>0.0</td>\n",
       "      <td>0.000000</td>\n",
       "      <td>0.000000</td>\n",
       "      <td>0.393842</td>\n",
       "      <td>0.000000</td>\n",
       "      <td>0.000000</td>\n",
       "      <td>0.000000</td>\n",
       "      <td>0.000000</td>\n",
       "      <td>0.000000</td>\n",
       "      <td>0.000000</td>\n",
       "      <td>...</td>\n",
       "      <td>0.000000</td>\n",
       "      <td>0.0</td>\n",
       "      <td>0.000000</td>\n",
       "      <td>0.000000</td>\n",
       "      <td>0.000000</td>\n",
       "      <td>0.000000</td>\n",
       "      <td>0.000000</td>\n",
       "      <td>0.000000</td>\n",
       "      <td>0.000000</td>\n",
       "      <td>0.000000</td>\n",
       "    </tr>\n",
       "    <tr>\n",
       "      <th>3347166</th>\n",
       "      <td>0.0</td>\n",
       "      <td>0.467300</td>\n",
       "      <td>0.000000</td>\n",
       "      <td>0.000000</td>\n",
       "      <td>0.490602</td>\n",
       "      <td>0.000000</td>\n",
       "      <td>0.000000</td>\n",
       "      <td>0.000000</td>\n",
       "      <td>0.000000</td>\n",
       "      <td>0.000000</td>\n",
       "      <td>...</td>\n",
       "      <td>0.000000</td>\n",
       "      <td>0.0</td>\n",
       "      <td>0.000000</td>\n",
       "      <td>0.000000</td>\n",
       "      <td>0.000000</td>\n",
       "      <td>0.000000</td>\n",
       "      <td>0.000000</td>\n",
       "      <td>0.000000</td>\n",
       "      <td>0.000000</td>\n",
       "      <td>0.000000</td>\n",
       "    </tr>\n",
       "    <tr>\n",
       "      <th>3347167</th>\n",
       "      <td>0.0</td>\n",
       "      <td>0.000000</td>\n",
       "      <td>0.000000</td>\n",
       "      <td>0.000000</td>\n",
       "      <td>0.000000</td>\n",
       "      <td>0.000000</td>\n",
       "      <td>0.000000</td>\n",
       "      <td>0.000000</td>\n",
       "      <td>0.000000</td>\n",
       "      <td>0.000000</td>\n",
       "      <td>...</td>\n",
       "      <td>0.000000</td>\n",
       "      <td>0.0</td>\n",
       "      <td>0.000000</td>\n",
       "      <td>0.000000</td>\n",
       "      <td>0.000000</td>\n",
       "      <td>0.000000</td>\n",
       "      <td>0.000000</td>\n",
       "      <td>0.000000</td>\n",
       "      <td>0.000000</td>\n",
       "      <td>0.000000</td>\n",
       "    </tr>\n",
       "  </tbody>\n",
       "</table>\n",
       "<p>3347168 rows × 96 columns</p>\n",
       "</div>"
      ],
      "text/plain": [
       "          10       100        11        12        13        14        15  \\\n",
       "0        0.0  0.000000  0.000000  0.000000  0.063669  0.000000  0.000000   \n",
       "1        0.0  0.000000  0.000000  0.266361  0.078415  0.000000  0.000000   \n",
       "2        0.0  0.072317  0.000000  0.000000  0.000000  0.000000  0.000000   \n",
       "3        0.0  0.000000  0.000000  0.000000  0.000000  0.000000  0.000000   \n",
       "4        0.0  0.000000  0.000000  0.000000  0.000000  0.150672  0.000000   \n",
       "...      ...       ...       ...       ...       ...       ...       ...   \n",
       "3347163  0.0  0.000000  0.670250  0.000000  0.000000  0.000000  0.367252   \n",
       "3347164  0.0  0.086275  0.083437  0.076919  0.000000  0.000000  0.000000   \n",
       "3347165  0.0  0.000000  0.000000  0.393842  0.000000  0.000000  0.000000   \n",
       "3347166  0.0  0.467300  0.000000  0.000000  0.490602  0.000000  0.000000   \n",
       "3347167  0.0  0.000000  0.000000  0.000000  0.000000  0.000000  0.000000   \n",
       "\n",
       "              all      also        an  ...        up  upc       use      used  \\\n",
       "0        0.000000  0.000000  0.000000  ...  0.063094  0.0  0.000000  0.000000   \n",
       "1        0.128667  0.000000  0.000000  ...  0.466244  0.0  0.064387  0.000000   \n",
       "2        0.062288  0.303192  0.140759  ...  0.000000  0.0  0.062340  0.000000   \n",
       "3        0.000000  0.130995  0.000000  ...  0.000000  0.0  0.215473  0.000000   \n",
       "4        0.079568  0.000000  0.000000  ...  0.000000  0.0  0.079634  0.048616   \n",
       "...           ...       ...       ...  ...       ...  ...       ...       ...   \n",
       "3347163  0.000000  0.000000  0.000000  ...  0.000000  0.0  0.000000  0.000000   \n",
       "3347164  0.074311  0.000000  0.000000  ...  0.000000  0.0  0.000000  0.000000   \n",
       "3347165  0.000000  0.000000  0.000000  ...  0.000000  0.0  0.000000  0.000000   \n",
       "3347166  0.000000  0.000000  0.000000  ...  0.000000  0.0  0.000000  0.000000   \n",
       "3347167  0.000000  0.000000  0.000000  ...  0.000000  0.0  0.000000  0.000000   \n",
       "\n",
       "               we    weight      will      with       you      your  \n",
       "0        0.000000  0.187570  0.000000  0.257043  0.000000  0.000000  \n",
       "1        0.000000  0.184810  0.000000  0.000000  0.111681  0.109124  \n",
       "2        0.146851  0.044734  0.000000  0.087575  0.162197  0.211311  \n",
       "3        0.000000  0.077309  0.000000  0.075674  0.000000  0.182595  \n",
       "4        0.046898  0.057144  0.000000  0.055935  0.172661  0.101225  \n",
       "...           ...       ...       ...       ...       ...       ...  \n",
       "3347163  0.000000  0.000000  0.000000  0.000000  0.000000  0.000000  \n",
       "3347164  0.000000  0.000000  0.154733  0.261199  0.129003  0.126049  \n",
       "3347165  0.000000  0.000000  0.000000  0.000000  0.000000  0.000000  \n",
       "3347166  0.000000  0.000000  0.000000  0.000000  0.000000  0.000000  \n",
       "3347167  0.000000  0.000000  0.000000  0.000000  0.000000  0.000000  \n",
       "\n",
       "[3347168 rows x 96 columns]"
      ]
     },
     "execution_count": 11,
     "metadata": {},
     "output_type": "execute_result"
    }
   ],
   "source": [
    "tfidf_df=pd.DataFrame(\n",
    "    vectorized_data.toarray(),\n",
    "    columns = vectorizer.get_feature_names_out()\n",
    ")\n",
    "tfidf_df"
   ]
  },
  {
   "cell_type": "code",
   "execution_count": 12,
   "metadata": {},
   "outputs": [],
   "source": [
    "tfidf_df.index = duck.query(\"select p.product_id from raw_items ri left join products p on ri.parent_asin=p.parent_asin\").to_df()['product_id']"
   ]
  },
  {
   "cell_type": "code",
   "execution_count": 13,
   "metadata": {},
   "outputs": [
    {
     "data": {
      "text/html": [
       "<div>\n",
       "<style scoped>\n",
       "    .dataframe tbody tr th:only-of-type {\n",
       "        vertical-align: middle;\n",
       "    }\n",
       "\n",
       "    .dataframe tbody tr th {\n",
       "        vertical-align: top;\n",
       "    }\n",
       "\n",
       "    .dataframe thead th {\n",
       "        text-align: right;\n",
       "    }\n",
       "</style>\n",
       "<table border=\"1\" class=\"dataframe\">\n",
       "  <thead>\n",
       "    <tr style=\"text-align: right;\">\n",
       "      <th></th>\n",
       "      <th>10</th>\n",
       "      <th>100</th>\n",
       "      <th>11</th>\n",
       "      <th>12</th>\n",
       "      <th>13</th>\n",
       "      <th>14</th>\n",
       "      <th>15</th>\n",
       "      <th>all</th>\n",
       "      <th>also</th>\n",
       "      <th>an</th>\n",
       "      <th>...</th>\n",
       "      <th>up</th>\n",
       "      <th>upc</th>\n",
       "      <th>use</th>\n",
       "      <th>used</th>\n",
       "      <th>we</th>\n",
       "      <th>weight</th>\n",
       "      <th>will</th>\n",
       "      <th>with</th>\n",
       "      <th>you</th>\n",
       "      <th>your</th>\n",
       "    </tr>\n",
       "    <tr>\n",
       "      <th>product_id</th>\n",
       "      <th></th>\n",
       "      <th></th>\n",
       "      <th></th>\n",
       "      <th></th>\n",
       "      <th></th>\n",
       "      <th></th>\n",
       "      <th></th>\n",
       "      <th></th>\n",
       "      <th></th>\n",
       "      <th></th>\n",
       "      <th></th>\n",
       "      <th></th>\n",
       "      <th></th>\n",
       "      <th></th>\n",
       "      <th></th>\n",
       "      <th></th>\n",
       "      <th></th>\n",
       "      <th></th>\n",
       "      <th></th>\n",
       "      <th></th>\n",
       "      <th></th>\n",
       "    </tr>\n",
       "  </thead>\n",
       "  <tbody>\n",
       "    <tr>\n",
       "      <th>120522</th>\n",
       "      <td>0.000000</td>\n",
       "      <td>0.000000</td>\n",
       "      <td>0.000000</td>\n",
       "      <td>0.000000</td>\n",
       "      <td>0.063669</td>\n",
       "      <td>0.000000</td>\n",
       "      <td>0.000000</td>\n",
       "      <td>0.000000</td>\n",
       "      <td>0.000000</td>\n",
       "      <td>0.000000</td>\n",
       "      <td>...</td>\n",
       "      <td>0.063094</td>\n",
       "      <td>0.0</td>\n",
       "      <td>0.000000</td>\n",
       "      <td>0.000000</td>\n",
       "      <td>0.000000</td>\n",
       "      <td>0.187570</td>\n",
       "      <td>0.000000</td>\n",
       "      <td>0.257043</td>\n",
       "      <td>0.000000</td>\n",
       "      <td>0.000000</td>\n",
       "    </tr>\n",
       "    <tr>\n",
       "      <th>14337</th>\n",
       "      <td>0.000000</td>\n",
       "      <td>0.000000</td>\n",
       "      <td>0.000000</td>\n",
       "      <td>0.266361</td>\n",
       "      <td>0.078415</td>\n",
       "      <td>0.000000</td>\n",
       "      <td>0.000000</td>\n",
       "      <td>0.128667</td>\n",
       "      <td>0.000000</td>\n",
       "      <td>0.000000</td>\n",
       "      <td>...</td>\n",
       "      <td>0.466244</td>\n",
       "      <td>0.0</td>\n",
       "      <td>0.064387</td>\n",
       "      <td>0.000000</td>\n",
       "      <td>0.000000</td>\n",
       "      <td>0.184810</td>\n",
       "      <td>0.000000</td>\n",
       "      <td>0.000000</td>\n",
       "      <td>0.111681</td>\n",
       "      <td>0.109124</td>\n",
       "    </tr>\n",
       "    <tr>\n",
       "      <th>106739</th>\n",
       "      <td>0.000000</td>\n",
       "      <td>0.072317</td>\n",
       "      <td>0.000000</td>\n",
       "      <td>0.000000</td>\n",
       "      <td>0.000000</td>\n",
       "      <td>0.000000</td>\n",
       "      <td>0.000000</td>\n",
       "      <td>0.062288</td>\n",
       "      <td>0.303192</td>\n",
       "      <td>0.140759</td>\n",
       "      <td>...</td>\n",
       "      <td>0.000000</td>\n",
       "      <td>0.0</td>\n",
       "      <td>0.062340</td>\n",
       "      <td>0.000000</td>\n",
       "      <td>0.146851</td>\n",
       "      <td>0.044734</td>\n",
       "      <td>0.000000</td>\n",
       "      <td>0.087575</td>\n",
       "      <td>0.162197</td>\n",
       "      <td>0.211311</td>\n",
       "    </tr>\n",
       "    <tr>\n",
       "      <th>54062</th>\n",
       "      <td>0.000000</td>\n",
       "      <td>0.000000</td>\n",
       "      <td>0.000000</td>\n",
       "      <td>0.000000</td>\n",
       "      <td>0.000000</td>\n",
       "      <td>0.000000</td>\n",
       "      <td>0.000000</td>\n",
       "      <td>0.000000</td>\n",
       "      <td>0.130995</td>\n",
       "      <td>0.000000</td>\n",
       "      <td>...</td>\n",
       "      <td>0.000000</td>\n",
       "      <td>0.0</td>\n",
       "      <td>0.215473</td>\n",
       "      <td>0.000000</td>\n",
       "      <td>0.000000</td>\n",
       "      <td>0.077309</td>\n",
       "      <td>0.000000</td>\n",
       "      <td>0.075674</td>\n",
       "      <td>0.000000</td>\n",
       "      <td>0.182595</td>\n",
       "    </tr>\n",
       "    <tr>\n",
       "      <th>71133</th>\n",
       "      <td>0.000000</td>\n",
       "      <td>0.000000</td>\n",
       "      <td>0.000000</td>\n",
       "      <td>0.000000</td>\n",
       "      <td>0.000000</td>\n",
       "      <td>0.150672</td>\n",
       "      <td>0.000000</td>\n",
       "      <td>0.079568</td>\n",
       "      <td>0.000000</td>\n",
       "      <td>0.000000</td>\n",
       "      <td>...</td>\n",
       "      <td>0.000000</td>\n",
       "      <td>0.0</td>\n",
       "      <td>0.079634</td>\n",
       "      <td>0.048616</td>\n",
       "      <td>0.046898</td>\n",
       "      <td>0.057144</td>\n",
       "      <td>0.000000</td>\n",
       "      <td>0.055935</td>\n",
       "      <td>0.172661</td>\n",
       "      <td>0.101225</td>\n",
       "    </tr>\n",
       "    <tr>\n",
       "      <th>14338</th>\n",
       "      <td>0.000000</td>\n",
       "      <td>0.000000</td>\n",
       "      <td>0.000000</td>\n",
       "      <td>0.000000</td>\n",
       "      <td>0.000000</td>\n",
       "      <td>0.000000</td>\n",
       "      <td>0.383627</td>\n",
       "      <td>0.000000</td>\n",
       "      <td>0.000000</td>\n",
       "      <td>0.000000</td>\n",
       "      <td>...</td>\n",
       "      <td>0.000000</td>\n",
       "      <td>0.0</td>\n",
       "      <td>0.000000</td>\n",
       "      <td>0.000000</td>\n",
       "      <td>0.000000</td>\n",
       "      <td>0.000000</td>\n",
       "      <td>0.000000</td>\n",
       "      <td>0.000000</td>\n",
       "      <td>0.135311</td>\n",
       "      <td>0.000000</td>\n",
       "    </tr>\n",
       "    <tr>\n",
       "      <th>71135</th>\n",
       "      <td>0.000000</td>\n",
       "      <td>0.443795</td>\n",
       "      <td>0.000000</td>\n",
       "      <td>0.098916</td>\n",
       "      <td>0.116481</td>\n",
       "      <td>0.120641</td>\n",
       "      <td>0.000000</td>\n",
       "      <td>0.000000</td>\n",
       "      <td>0.000000</td>\n",
       "      <td>0.000000</td>\n",
       "      <td>...</td>\n",
       "      <td>0.000000</td>\n",
       "      <td>0.0</td>\n",
       "      <td>0.095643</td>\n",
       "      <td>0.116779</td>\n",
       "      <td>0.112650</td>\n",
       "      <td>0.068631</td>\n",
       "      <td>0.099492</td>\n",
       "      <td>0.067179</td>\n",
       "      <td>0.082948</td>\n",
       "      <td>0.162098</td>\n",
       "    </tr>\n",
       "    <tr>\n",
       "      <th>54063</th>\n",
       "      <td>0.000000</td>\n",
       "      <td>0.000000</td>\n",
       "      <td>0.580170</td>\n",
       "      <td>0.000000</td>\n",
       "      <td>0.000000</td>\n",
       "      <td>0.000000</td>\n",
       "      <td>0.000000</td>\n",
       "      <td>0.000000</td>\n",
       "      <td>0.000000</td>\n",
       "      <td>0.000000</td>\n",
       "      <td>...</td>\n",
       "      <td>0.000000</td>\n",
       "      <td>0.0</td>\n",
       "      <td>0.000000</td>\n",
       "      <td>0.000000</td>\n",
       "      <td>0.000000</td>\n",
       "      <td>0.000000</td>\n",
       "      <td>0.000000</td>\n",
       "      <td>0.000000</td>\n",
       "      <td>0.000000</td>\n",
       "      <td>0.000000</td>\n",
       "    </tr>\n",
       "    <tr>\n",
       "      <th>120523</th>\n",
       "      <td>0.000000</td>\n",
       "      <td>0.000000</td>\n",
       "      <td>0.000000</td>\n",
       "      <td>0.097089</td>\n",
       "      <td>0.000000</td>\n",
       "      <td>0.000000</td>\n",
       "      <td>0.000000</td>\n",
       "      <td>0.093798</td>\n",
       "      <td>0.114142</td>\n",
       "      <td>0.000000</td>\n",
       "      <td>...</td>\n",
       "      <td>0.000000</td>\n",
       "      <td>0.0</td>\n",
       "      <td>0.000000</td>\n",
       "      <td>0.000000</td>\n",
       "      <td>0.110569</td>\n",
       "      <td>0.067363</td>\n",
       "      <td>0.097654</td>\n",
       "      <td>0.065939</td>\n",
       "      <td>0.162832</td>\n",
       "      <td>0.000000</td>\n",
       "    </tr>\n",
       "    <tr>\n",
       "      <th>2355662</th>\n",
       "      <td>0.000000</td>\n",
       "      <td>0.325268</td>\n",
       "      <td>0.000000</td>\n",
       "      <td>0.000000</td>\n",
       "      <td>0.170744</td>\n",
       "      <td>0.000000</td>\n",
       "      <td>0.000000</td>\n",
       "      <td>0.000000</td>\n",
       "      <td>0.000000</td>\n",
       "      <td>0.000000</td>\n",
       "      <td>...</td>\n",
       "      <td>0.000000</td>\n",
       "      <td>0.0</td>\n",
       "      <td>0.070099</td>\n",
       "      <td>0.000000</td>\n",
       "      <td>0.247692</td>\n",
       "      <td>0.050301</td>\n",
       "      <td>0.072920</td>\n",
       "      <td>0.049237</td>\n",
       "      <td>0.121589</td>\n",
       "      <td>0.059403</td>\n",
       "    </tr>\n",
       "    <tr>\n",
       "      <th>71136</th>\n",
       "      <td>0.104931</td>\n",
       "      <td>0.000000</td>\n",
       "      <td>0.000000</td>\n",
       "      <td>0.000000</td>\n",
       "      <td>0.000000</td>\n",
       "      <td>0.000000</td>\n",
       "      <td>0.000000</td>\n",
       "      <td>0.000000</td>\n",
       "      <td>0.000000</td>\n",
       "      <td>0.000000</td>\n",
       "      <td>...</td>\n",
       "      <td>0.000000</td>\n",
       "      <td>0.0</td>\n",
       "      <td>0.000000</td>\n",
       "      <td>0.000000</td>\n",
       "      <td>0.000000</td>\n",
       "      <td>0.076205</td>\n",
       "      <td>0.000000</td>\n",
       "      <td>0.074593</td>\n",
       "      <td>0.000000</td>\n",
       "      <td>0.089993</td>\n",
       "    </tr>\n",
       "    <tr>\n",
       "      <th>2600863</th>\n",
       "      <td>0.000000</td>\n",
       "      <td>0.078605</td>\n",
       "      <td>0.076018</td>\n",
       "      <td>0.000000</td>\n",
       "      <td>0.082524</td>\n",
       "      <td>0.000000</td>\n",
       "      <td>0.249918</td>\n",
       "      <td>0.000000</td>\n",
       "      <td>0.000000</td>\n",
       "      <td>0.000000</td>\n",
       "      <td>...</td>\n",
       "      <td>0.000000</td>\n",
       "      <td>0.0</td>\n",
       "      <td>0.000000</td>\n",
       "      <td>0.000000</td>\n",
       "      <td>0.000000</td>\n",
       "      <td>0.048623</td>\n",
       "      <td>0.000000</td>\n",
       "      <td>0.142785</td>\n",
       "      <td>0.000000</td>\n",
       "      <td>0.000000</td>\n",
       "    </tr>\n",
       "    <tr>\n",
       "      <th>83969</th>\n",
       "      <td>0.000000</td>\n",
       "      <td>0.000000</td>\n",
       "      <td>0.000000</td>\n",
       "      <td>0.000000</td>\n",
       "      <td>0.000000</td>\n",
       "      <td>0.000000</td>\n",
       "      <td>0.000000</td>\n",
       "      <td>0.000000</td>\n",
       "      <td>0.000000</td>\n",
       "      <td>0.000000</td>\n",
       "      <td>...</td>\n",
       "      <td>0.000000</td>\n",
       "      <td>0.0</td>\n",
       "      <td>0.000000</td>\n",
       "      <td>0.000000</td>\n",
       "      <td>0.000000</td>\n",
       "      <td>0.077232</td>\n",
       "      <td>0.111960</td>\n",
       "      <td>0.075598</td>\n",
       "      <td>0.186686</td>\n",
       "      <td>0.456029</td>\n",
       "    </tr>\n",
       "    <tr>\n",
       "      <th>8262</th>\n",
       "      <td>0.420786</td>\n",
       "      <td>0.000000</td>\n",
       "      <td>0.000000</td>\n",
       "      <td>0.000000</td>\n",
       "      <td>0.000000</td>\n",
       "      <td>0.000000</td>\n",
       "      <td>0.000000</td>\n",
       "      <td>0.000000</td>\n",
       "      <td>0.000000</td>\n",
       "      <td>0.000000</td>\n",
       "      <td>...</td>\n",
       "      <td>0.000000</td>\n",
       "      <td>0.0</td>\n",
       "      <td>0.000000</td>\n",
       "      <td>0.000000</td>\n",
       "      <td>0.000000</td>\n",
       "      <td>0.458390</td>\n",
       "      <td>0.000000</td>\n",
       "      <td>0.000000</td>\n",
       "      <td>0.000000</td>\n",
       "      <td>0.000000</td>\n",
       "    </tr>\n",
       "    <tr>\n",
       "      <th>83970</th>\n",
       "      <td>0.000000</td>\n",
       "      <td>0.420346</td>\n",
       "      <td>0.000000</td>\n",
       "      <td>0.000000</td>\n",
       "      <td>0.000000</td>\n",
       "      <td>0.000000</td>\n",
       "      <td>0.000000</td>\n",
       "      <td>0.000000</td>\n",
       "      <td>0.000000</td>\n",
       "      <td>0.000000</td>\n",
       "      <td>...</td>\n",
       "      <td>0.000000</td>\n",
       "      <td>0.0</td>\n",
       "      <td>0.120786</td>\n",
       "      <td>0.000000</td>\n",
       "      <td>0.000000</td>\n",
       "      <td>0.086673</td>\n",
       "      <td>0.000000</td>\n",
       "      <td>0.254519</td>\n",
       "      <td>0.000000</td>\n",
       "      <td>0.102355</td>\n",
       "    </tr>\n",
       "    <tr>\n",
       "      <th>8263</th>\n",
       "      <td>0.000000</td>\n",
       "      <td>0.142369</td>\n",
       "      <td>0.000000</td>\n",
       "      <td>0.126928</td>\n",
       "      <td>0.000000</td>\n",
       "      <td>0.000000</td>\n",
       "      <td>0.000000</td>\n",
       "      <td>0.122626</td>\n",
       "      <td>0.149223</td>\n",
       "      <td>0.000000</td>\n",
       "      <td>...</td>\n",
       "      <td>0.074059</td>\n",
       "      <td>0.0</td>\n",
       "      <td>0.000000</td>\n",
       "      <td>0.074925</td>\n",
       "      <td>0.000000</td>\n",
       "      <td>0.000000</td>\n",
       "      <td>0.000000</td>\n",
       "      <td>0.086204</td>\n",
       "      <td>0.159657</td>\n",
       "      <td>0.260003</td>\n",
       "    </tr>\n",
       "    <tr>\n",
       "      <th>2584479</th>\n",
       "      <td>0.000000</td>\n",
       "      <td>0.000000</td>\n",
       "      <td>0.000000</td>\n",
       "      <td>0.065824</td>\n",
       "      <td>0.000000</td>\n",
       "      <td>0.000000</td>\n",
       "      <td>0.000000</td>\n",
       "      <td>0.063593</td>\n",
       "      <td>0.038693</td>\n",
       "      <td>0.000000</td>\n",
       "      <td>...</td>\n",
       "      <td>0.076813</td>\n",
       "      <td>0.0</td>\n",
       "      <td>0.159114</td>\n",
       "      <td>0.000000</td>\n",
       "      <td>0.262371</td>\n",
       "      <td>0.022835</td>\n",
       "      <td>0.066207</td>\n",
       "      <td>0.089409</td>\n",
       "      <td>0.082797</td>\n",
       "      <td>0.080901</td>\n",
       "    </tr>\n",
       "    <tr>\n",
       "      <th>54064</th>\n",
       "      <td>0.342808</td>\n",
       "      <td>0.000000</td>\n",
       "      <td>0.000000</td>\n",
       "      <td>0.000000</td>\n",
       "      <td>0.000000</td>\n",
       "      <td>0.000000</td>\n",
       "      <td>0.000000</td>\n",
       "      <td>0.000000</td>\n",
       "      <td>0.000000</td>\n",
       "      <td>0.000000</td>\n",
       "      <td>...</td>\n",
       "      <td>0.000000</td>\n",
       "      <td>0.0</td>\n",
       "      <td>0.000000</td>\n",
       "      <td>0.000000</td>\n",
       "      <td>0.000000</td>\n",
       "      <td>0.248962</td>\n",
       "      <td>0.000000</td>\n",
       "      <td>0.000000</td>\n",
       "      <td>0.000000</td>\n",
       "      <td>0.000000</td>\n",
       "    </tr>\n",
       "    <tr>\n",
       "      <th>54065</th>\n",
       "      <td>0.000000</td>\n",
       "      <td>0.000000</td>\n",
       "      <td>0.063809</td>\n",
       "      <td>0.000000</td>\n",
       "      <td>0.000000</td>\n",
       "      <td>0.000000</td>\n",
       "      <td>0.000000</td>\n",
       "      <td>0.000000</td>\n",
       "      <td>0.000000</td>\n",
       "      <td>0.128426</td>\n",
       "      <td>...</td>\n",
       "      <td>0.000000</td>\n",
       "      <td>0.0</td>\n",
       "      <td>0.000000</td>\n",
       "      <td>0.069447</td>\n",
       "      <td>0.133984</td>\n",
       "      <td>0.020407</td>\n",
       "      <td>0.118334</td>\n",
       "      <td>0.159804</td>\n",
       "      <td>0.147985</td>\n",
       "      <td>0.240994</td>\n",
       "    </tr>\n",
       "    <tr>\n",
       "      <th>8194</th>\n",
       "      <td>0.086008</td>\n",
       "      <td>0.000000</td>\n",
       "      <td>0.000000</td>\n",
       "      <td>0.000000</td>\n",
       "      <td>0.000000</td>\n",
       "      <td>0.000000</td>\n",
       "      <td>0.000000</td>\n",
       "      <td>0.173948</td>\n",
       "      <td>0.105838</td>\n",
       "      <td>0.098272</td>\n",
       "      <td>...</td>\n",
       "      <td>0.315165</td>\n",
       "      <td>0.0</td>\n",
       "      <td>0.000000</td>\n",
       "      <td>0.106283</td>\n",
       "      <td>0.000000</td>\n",
       "      <td>0.062463</td>\n",
       "      <td>0.000000</td>\n",
       "      <td>0.000000</td>\n",
       "      <td>0.000000</td>\n",
       "      <td>0.000000</td>\n",
       "    </tr>\n",
       "  </tbody>\n",
       "</table>\n",
       "<p>20 rows × 96 columns</p>\n",
       "</div>"
      ],
      "text/plain": [
       "                  10       100        11        12        13        14  \\\n",
       "product_id                                                               \n",
       "120522      0.000000  0.000000  0.000000  0.000000  0.063669  0.000000   \n",
       "14337       0.000000  0.000000  0.000000  0.266361  0.078415  0.000000   \n",
       "106739      0.000000  0.072317  0.000000  0.000000  0.000000  0.000000   \n",
       "54062       0.000000  0.000000  0.000000  0.000000  0.000000  0.000000   \n",
       "71133       0.000000  0.000000  0.000000  0.000000  0.000000  0.150672   \n",
       "14338       0.000000  0.000000  0.000000  0.000000  0.000000  0.000000   \n",
       "71135       0.000000  0.443795  0.000000  0.098916  0.116481  0.120641   \n",
       "54063       0.000000  0.000000  0.580170  0.000000  0.000000  0.000000   \n",
       "120523      0.000000  0.000000  0.000000  0.097089  0.000000  0.000000   \n",
       "2355662     0.000000  0.325268  0.000000  0.000000  0.170744  0.000000   \n",
       "71136       0.104931  0.000000  0.000000  0.000000  0.000000  0.000000   \n",
       "2600863     0.000000  0.078605  0.076018  0.000000  0.082524  0.000000   \n",
       "83969       0.000000  0.000000  0.000000  0.000000  0.000000  0.000000   \n",
       "8262        0.420786  0.000000  0.000000  0.000000  0.000000  0.000000   \n",
       "83970       0.000000  0.420346  0.000000  0.000000  0.000000  0.000000   \n",
       "8263        0.000000  0.142369  0.000000  0.126928  0.000000  0.000000   \n",
       "2584479     0.000000  0.000000  0.000000  0.065824  0.000000  0.000000   \n",
       "54064       0.342808  0.000000  0.000000  0.000000  0.000000  0.000000   \n",
       "54065       0.000000  0.000000  0.063809  0.000000  0.000000  0.000000   \n",
       "8194        0.086008  0.000000  0.000000  0.000000  0.000000  0.000000   \n",
       "\n",
       "                  15       all      also        an  ...        up  upc  \\\n",
       "product_id                                          ...                  \n",
       "120522      0.000000  0.000000  0.000000  0.000000  ...  0.063094  0.0   \n",
       "14337       0.000000  0.128667  0.000000  0.000000  ...  0.466244  0.0   \n",
       "106739      0.000000  0.062288  0.303192  0.140759  ...  0.000000  0.0   \n",
       "54062       0.000000  0.000000  0.130995  0.000000  ...  0.000000  0.0   \n",
       "71133       0.000000  0.079568  0.000000  0.000000  ...  0.000000  0.0   \n",
       "14338       0.383627  0.000000  0.000000  0.000000  ...  0.000000  0.0   \n",
       "71135       0.000000  0.000000  0.000000  0.000000  ...  0.000000  0.0   \n",
       "54063       0.000000  0.000000  0.000000  0.000000  ...  0.000000  0.0   \n",
       "120523      0.000000  0.093798  0.114142  0.000000  ...  0.000000  0.0   \n",
       "2355662     0.000000  0.000000  0.000000  0.000000  ...  0.000000  0.0   \n",
       "71136       0.000000  0.000000  0.000000  0.000000  ...  0.000000  0.0   \n",
       "2600863     0.249918  0.000000  0.000000  0.000000  ...  0.000000  0.0   \n",
       "83969       0.000000  0.000000  0.000000  0.000000  ...  0.000000  0.0   \n",
       "8262        0.000000  0.000000  0.000000  0.000000  ...  0.000000  0.0   \n",
       "83970       0.000000  0.000000  0.000000  0.000000  ...  0.000000  0.0   \n",
       "8263        0.000000  0.122626  0.149223  0.000000  ...  0.074059  0.0   \n",
       "2584479     0.000000  0.063593  0.038693  0.000000  ...  0.076813  0.0   \n",
       "54064       0.000000  0.000000  0.000000  0.000000  ...  0.000000  0.0   \n",
       "54065       0.000000  0.000000  0.000000  0.128426  ...  0.000000  0.0   \n",
       "8194        0.000000  0.173948  0.105838  0.098272  ...  0.315165  0.0   \n",
       "\n",
       "                 use      used        we    weight      will      with  \\\n",
       "product_id                                                               \n",
       "120522      0.000000  0.000000  0.000000  0.187570  0.000000  0.257043   \n",
       "14337       0.064387  0.000000  0.000000  0.184810  0.000000  0.000000   \n",
       "106739      0.062340  0.000000  0.146851  0.044734  0.000000  0.087575   \n",
       "54062       0.215473  0.000000  0.000000  0.077309  0.000000  0.075674   \n",
       "71133       0.079634  0.048616  0.046898  0.057144  0.000000  0.055935   \n",
       "14338       0.000000  0.000000  0.000000  0.000000  0.000000  0.000000   \n",
       "71135       0.095643  0.116779  0.112650  0.068631  0.099492  0.067179   \n",
       "54063       0.000000  0.000000  0.000000  0.000000  0.000000  0.000000   \n",
       "120523      0.000000  0.000000  0.110569  0.067363  0.097654  0.065939   \n",
       "2355662     0.070099  0.000000  0.247692  0.050301  0.072920  0.049237   \n",
       "71136       0.000000  0.000000  0.000000  0.076205  0.000000  0.074593   \n",
       "2600863     0.000000  0.000000  0.000000  0.048623  0.000000  0.142785   \n",
       "83969       0.000000  0.000000  0.000000  0.077232  0.111960  0.075598   \n",
       "8262        0.000000  0.000000  0.000000  0.458390  0.000000  0.000000   \n",
       "83970       0.120786  0.000000  0.000000  0.086673  0.000000  0.254519   \n",
       "8263        0.000000  0.074925  0.000000  0.000000  0.000000  0.086204   \n",
       "2584479     0.159114  0.000000  0.262371  0.022835  0.066207  0.089409   \n",
       "54064       0.000000  0.000000  0.000000  0.248962  0.000000  0.000000   \n",
       "54065       0.000000  0.069447  0.133984  0.020407  0.118334  0.159804   \n",
       "8194        0.000000  0.106283  0.000000  0.062463  0.000000  0.000000   \n",
       "\n",
       "                 you      your  \n",
       "product_id                      \n",
       "120522      0.000000  0.000000  \n",
       "14337       0.111681  0.109124  \n",
       "106739      0.162197  0.211311  \n",
       "54062       0.000000  0.182595  \n",
       "71133       0.172661  0.101225  \n",
       "14338       0.135311  0.000000  \n",
       "71135       0.082948  0.162098  \n",
       "54063       0.000000  0.000000  \n",
       "120523      0.162832  0.000000  \n",
       "2355662     0.121589  0.059403  \n",
       "71136       0.000000  0.089993  \n",
       "2600863     0.000000  0.000000  \n",
       "83969       0.186686  0.456029  \n",
       "8262        0.000000  0.000000  \n",
       "83970       0.000000  0.102355  \n",
       "8263        0.159657  0.260003  \n",
       "2584479     0.082797  0.080901  \n",
       "54064       0.000000  0.000000  \n",
       "54065       0.147985  0.240994  \n",
       "8194        0.000000  0.000000  \n",
       "\n",
       "[20 rows x 96 columns]"
      ]
     },
     "execution_count": 13,
     "metadata": {},
     "output_type": "execute_result"
    }
   ],
   "source": [
    "tfidf_df.head(20)"
   ]
  },
  {
   "cell_type": "code",
   "execution_count": 14,
   "metadata": {},
   "outputs": [
    {
     "name": "stdout",
     "output_type": "stream",
     "text": [
      "<class 'pandas.core.frame.DataFrame'>\n",
      "Index: 3347168 entries, 120522 to 1987965\n",
      "Data columns (total 96 columns):\n",
      " #   Column        Dtype  \n",
      "---  ------        -----  \n",
      " 0   10            float64\n",
      " 1   100           float64\n",
      " 2   11            float64\n",
      " 3   12            float64\n",
      " 4   13            float64\n",
      " 5   14            float64\n",
      " 6   15            float64\n",
      " 7   all           float64\n",
      " 8   also          float64\n",
      " 9   an            float64\n",
      " 10  and           float64\n",
      " 11  any           float64\n",
      " 12  are           float64\n",
      " 13  arts          float64\n",
      " 14  as            float64\n",
      " 15  at            float64\n",
      " 16  available     float64\n",
      " 17  be            float64\n",
      " 18  best          float64\n",
      " 19  brand         float64\n",
      " 20  by            float64\n",
      " 21  can           float64\n",
      " 22  color         float64\n",
      " 23  crafts        float64\n",
      " 24  date          float64\n",
      " 25  design        float64\n",
      " 26  dimensions    float64\n",
      " 27  discontinued  float64\n",
      " 28  each          float64\n",
      " 29  easy          float64\n",
      " 30  first         float64\n",
      " 31  for           float64\n",
      " 32  free          float64\n",
      " 33  from          float64\n",
      " 34  great         float64\n",
      " 35  hand          float64\n",
      " 36  has           float64\n",
      " 37  have          float64\n",
      " 38  high          float64\n",
      " 39  in            float64\n",
      " 40  inches        float64\n",
      " 41  included      float64\n",
      " 42  is            float64\n",
      " 43  it            float64\n",
      " 44  item          float64\n",
      " 45  items         float64\n",
      " 46  made          float64\n",
      " 47  make          float64\n",
      " 48  manufacturer  float64\n",
      " 49  material      float64\n",
      " 50  may           float64\n",
      " 51  model         float64\n",
      " 52  more          float64\n",
      " 53  no            float64\n",
      " 54  not           float64\n",
      " 55  number        float64\n",
      " 56  of            float64\n",
      " 57  on            float64\n",
      " 58  one           float64\n",
      " 59  only          float64\n",
      " 60  or            float64\n",
      " 61  other         float64\n",
      " 62  ounces        float64\n",
      " 63  our           float64\n",
      " 64  package       float64\n",
      " 65  perfect       float64\n",
      " 66  pieces        float64\n",
      " 67  pounds        float64\n",
      " 68  product       float64\n",
      " 69  products      float64\n",
      " 70  quality       float64\n",
      " 71  range         float64\n",
      " 72  rank          float64\n",
      " 73  required      float64\n",
      " 74  sellers       float64\n",
      " 75  sewing        float64\n",
      " 76  size          float64\n",
      " 77  style         float64\n",
      " 78  supplies      float64\n",
      " 79  that          float64\n",
      " 80  the           float64\n",
      " 81  these         float64\n",
      " 82  this          float64\n",
      " 83  time          float64\n",
      " 84  to            float64\n",
      " 85  type          float64\n",
      " 86  up            float64\n",
      " 87  upc           float64\n",
      " 88  use           float64\n",
      " 89  used          float64\n",
      " 90  we            float64\n",
      " 91  weight        float64\n",
      " 92  will          float64\n",
      " 93  with          float64\n",
      " 94  you           float64\n",
      " 95  your          float64\n",
      "dtypes: float64(96)\n",
      "memory usage: 2.4 GB\n"
     ]
    }
   ],
   "source": [
    "tfidf_df.info()"
   ]
  },
  {
   "cell_type": "code",
   "execution_count": 7,
   "metadata": {},
   "outputs": [
    {
     "data": {
      "text/plain": [
       "┌──────────────────────────────────────────────────────────────────────────────────────────────────────────────────────┐\n",
       "│                                                     description                                                      │\n",
       "│                                                       varchar                                                        │\n",
       "├──────────────────────────────────────────────────────────────────────────────────────────────────────────────────────┤\n",
       "│ Product Description;For ultimate convenience, the Chicco Viaro Quick-Fold Stroller has a sleek three-wheel design,…  │\n",
       "│ You can choose bigger size If you confuse about size.;Medium: Age (6-12 months), Height (up to 32inches), Weight (…  │\n",
       "│ NULL                                                                                                                 │\n",
       "│ When babies begin to show interest in feeding themselves, having the right equipment is a must! Nuby feeding acces…  │\n",
       "│ The mDesign clear storage bins for kids supplies nurseries are perfect for organizing all of your little one's fav…  │\n",
       "│ Kandoo beauty products are designed to take care of yourself, pamper you and feel beautiful every day of the year.   │\n",
       "│ NULL                                                                                                                 │\n",
       "│ NULL                                                                                                                 │\n",
       "│ NULL                                                                                                                 │\n",
       "│ NULL                                                                                                                 │\n",
       "│  ·                                                                                                                   │\n",
       "│  ·                                                                                                                   │\n",
       "│  ·                                                                                                                   │\n",
       "│ Walker meets highchair. The spoon walker combines these two essential products into one to provide the perfect bal…  │\n",
       "│ NULL                                                                                                                 │\n",
       "│ ■Humanized design to better enjoy life ▲;When children or pets play and play, at least the safety hazards of openi…  │\n",
       "│ NULL                                                                                                                 │\n",
       "│ NULL                                                                                                                 │\n",
       "│ NULL                                                                                                                 │\n",
       "│ Product Description;Keep meals warm or cold with our cool-for-school kids food jar. This stainless steel kids food…  │\n",
       "│ Wildkin’s Play Rug is the perfect addition to playrooms, bedrooms, classrooms, and more. Measuring 80 x 39 inches,…  │\n",
       "│ NULL                                                                                                                 │\n",
       "│ Experience 7 ways to ride with the Graco Modes 3 Essentials LX Travel System. It includes the Graco Snug Ride Snug…  │\n",
       "├──────────────────────────────────────────────────────────────────────────────────────────────────────────────────────┤\n",
       "│                                            ? rows (>9999 rows, 20 shown)                                             │\n",
       "└──────────────────────────────────────────────────────────────────────────────────────────────────────────────────────┘"
      ]
     },
     "execution_count": 7,
     "metadata": {},
     "output_type": "execute_result"
    }
   ],
   "source": [
    "duck.query(\"\"\"\n",
    "    select description\n",
    "    from raw_items\n",
    "\"\"\")"
   ]
  },
  {
   "cell_type": "code",
   "execution_count": null,
   "metadata": {},
   "outputs": [],
   "source": []
  },
  {
   "cell_type": "code",
   "execution_count": 12,
   "metadata": {},
   "outputs": [
    {
     "name": "stdout",
     "output_type": "stream",
     "text": [
      "┌────────────┬──────────────────────┬──────────────────────┬──────────────────────┬──────────────────────┬──────────────────────┬─────────────────────────────────────┬────────┬───────────┬───────────┐\n",
      "│ product_id │        store         │    main_category     │    subcategories     │       features       │     description      │               details               │ price  │ has_image │ has_video │\n",
      "│   int64    │       varchar        │       varchar        │       varchar        │       varchar        │       varchar        │               varchar               │ double │   int64   │   int64   │\n",
      "├────────────┼──────────────────────┼──────────────────────┼──────────────────────┼──────────────────────┼──────────────────────┼─────────────────────────────────────┼────────┼───────────┼───────────┤\n",
      "│       4097 │ mAppsguru            │ Appstore for Android │ NULL                 │ All the pressing p…  │ Acupressure techni…  │ Release Date:2015;Date first list…  │    0.0 │         1 │         1 │\n",
      "│       4097 │ Oceanhouse Media, …  │ Appstore for Android │ NULL                 │ ENCOURAGE literacy…  │ Join Ankylosaurus …  │ Release Date:2014;Date first list…  │   2.99 │         1 │         1 │\n",
      "│       4097 │ sophiathach          │ Appstore for Android │ NULL                 │ Mahjong 2015 is a …  │ Mahjong 2015 is a …  │ Release Date:2014;Date first list…  │    0.0 │         1 │         1 │\n",
      "│       4097 │ Bad Chicken          │ Appstore for Android │ NULL                 │ Game Features:;- I…  │ Jewels Brick Break…  │ Release Date:2015;Date first list…  │    0.0 │         1 │         1 │\n",
      "│       4097 │ 3D Futuristic Games  │ Appstore for Android │ NULL                 │ Shadow combat supe…  │ Let’s start to use…  │ Release Date:2018;Date first list…  │    0.0 │         1 │         1 │\n",
      "│       4097 │ Surprise Unboxing …  │ Appstore for Android │ NULL                 │ Latest surprise ki…  │ Love surprise open…  │ Release Date:2020;Date first list…  │    0.0 │         1 │         1 │\n",
      "│       4097 │ Azeed                │ Appstore for Android │ NULL                 │ We personally chec…  │ Application made b…  │ Release Date:2017;Date first list…  │    0.0 │         1 │         1 │\n",
      "│       4097 │ Gem Shopping Netwo…  │ Appstore for Android │ NULL                 │ Live Stream!;Call …  │ Watch Gem Shopping…  │ Release Date:2016;Date first list…  │    0.0 │         1 │         1 │\n",
      "│       4097 │ Re:Launch            │ Software             │ Music;Instrument I…  │ Keystation 49e Key…  │ From the Manufactu…  │ Package Dimensions:31 x 10.8 x 4.…  │   NULL │         1 │         0 │\n",
      "│       4097 │ 高智峰               │ Appstore for Android │ NULL                 │ Boxing Game 3D Rea…  │ Boxing Game 3D Rea…  │ Release Date:2014;Date first list…  │    0.0 │         1 │         1 │\n",
      "│         ·  │   ·                  │    ·                 │  ·                   │  ·                   │          ·           │                  ·                  │     ·  │         · │         · │\n",
      "│         ·  │   ·                  │    ·                 │  ·                   │  ·                   │          ·           │                  ·                  │     ·  │         · │         · │\n",
      "│         ·  │   ·                  │    ·                 │  ·                   │  ·                   │          ·           │                  ·                  │     ·  │         · │         · │\n",
      "│       4101 │ Intuit               │ Software             │ Intuit;All Intuit    │ NULL                 │ Amazon.com;Most se…  │ Is Discontinued By Manufacturer:Y…  │   NULL │         1 │         0 │\n",
      "│       4101 │ ArcadesIndo Games    │ Appstore for Android │ NULL                 │ Zombies;HTML5;Mobi…  │ The zombies is REA…  │ Release Date:2015;Date first list…  │    0.0 │         1 │         1 │\n",
      "│       4101 │ Galatic Droids       │ Appstore for Android │ NULL                 │ Classic card game …  │ Clock Patience, a …  │ Release Date:2013;Date first list…  │    0.0 │         1 │         1 │\n",
      "│       4101 │ CleverEdu, LLC       │ Appstore for Android │ NULL                 │ +) Lifetime access…  │ THE #1 NSCA CPT ST…  │ Release Date:2017;Date first list…  │    0.0 │         1 │         1 │\n",
      "│       4101 │ Intuit               │ Software             │ Intuit;All Intuit    │ Pro Standard is a …  │ QuickBooks Desktop…  │ Date First Available:August 13, 2…  │   NULL │         1 │         0 │\n",
      "│       4101 │ Streaming Televisi…  │ Appstore for Android │ NULL                 │ Watch Great TV Sho…  │ The Nashville Stre…  │ Release Date:2018;Date first list…  │    0.0 │         1 │         1 │\n",
      "│       4101 │ Raptisoft            │ Appstore for Android │ NULL                 │ Incredibly deep sk…  │ Near the town of D…  │ Release Date:2017;Date first list…  │    0.0 │         1 │         1 │\n",
      "│       4101 │ NETIGEN              │ Appstore for Android │ NULL                 │ learning mode;play…  │ Download the Best …  │ Release Date:2013;Date first list…  │    0.0 │         1 │         1 │\n",
      "│       4101 │ Corel                │ Software             │ Corel;All Corel      │ NULL                 │ Amazon.com;Add a n…  │ Is Discontinued By Manufacturer:Y…  │   NULL │         1 │         0 │\n",
      "│       4101 │ Unit M               │ Appstore for Android │ NULL                 │ Make fruit candies…  │ There are some thi…  │ Release Date:2015;Date first list…  │    0.0 │         1 │         1 │\n",
      "├────────────┴──────────────────────┴──────────────────────┴──────────────────────┴──────────────────────┴──────────────────────┴─────────────────────────────────────┴────────┴───────────┴───────────┤\n",
      "│ ? rows (>9999 rows, 20 shown)                                                                                                                                                             10 columns │\n",
      "└──────────────────────────────────────────────────────────────────────────────────────────────────────────────────────────────────────────────────────────────────────────────────────────────────────┘\n",
      "\n"
     ]
    }
   ],
   "source": [
    "duck.query(\"\"\"\n",
    "    --create table meta as\n",
    "    select\n",
    "        p.product_id\n",
    "        , ri.store\n",
    "        , ri.main_category\n",
    "        , ri.categories as subcategories\n",
    "        , ri.features\n",
    "        , ri.description\n",
    "        , ri.details\n",
    "        , ri.price\n",
    "        , ri.has_image\n",
    "        , ri.videos as has_video\n",
    "    from raw_items ri\n",
    "        left join products p on ri.parent_asin=ri.parent_asin\n",
    "        left join stores s on ri.store=s.store\n",
    "        left join categories c on ri.main_category=c.main_category\n",
    "\"\"\").show(max_width=200)#.pl().estimated_size()"
   ]
  },
  {
   "cell_type": "code",
   "execution_count": 8,
   "metadata": {},
   "outputs": [
    {
     "data": {
      "text/plain": [
       "┌────────────┬─────────────┬────────────────────────────────┬──────────────────────────────────────────────────────────┐\n",
       "│ product_id │ parent_asin │             title              │                          images                          │\n",
       "│   int64    │   varchar   │            varchar             │                         varchar                          │\n",
       "├────────────┼─────────────┼────────────────────────────────┼──────────────────────────────────────────────────────────┤\n",
       "│       8193 │ B07X3Q2M38  │ Korean Dongwon Yangban Seaso…  │ https://m.media-amazon.com/images/I/61VU+bCdokL.jpg      │\n",
       "│       8194 │ B07FYFBFDF  │ PRODUCE Organic Strawberries…  │ https://m.media-amazon.com/images/I/41Ks9wyeEyL.jpg      │\n",
       "│       8195 │ B09P9NDRSY  │ US-FARMERS Natural Premium Q…  │ https://m.media-amazon.com/images/I/51TL-VBTrNL.jpg      │\n",
       "│       8196 │ B07L1XNR2Y  │ Poulain Cacao Grand Arome 800g │ https://m.media-amazon.com/images/I/21WhGtZomXL.jpg      │\n",
       "│       8197 │ B08XRJSFH5  │ Wild Bay Kombucha Organic Ma…  │ https://m.media-amazon.com/images/I/31uFMjf2RYL.jpg      │\n",
       "│       8198 │ B00MZZAULM  │ Ben & Jerry's Coffee Coffee …  │ https://m.media-amazon.com/images/I/6188+p2Pf3L.jpg      │\n",
       "│       8199 │ B001KWB3F8  │ BULK Regular Rolled Oats, 1 LB │ https://m.media-amazon.com/images/I/51mr-LsM1AL.jpg      │\n",
       "│       8200 │ B00BBTAAO0  │ Earth's Best Organic Sesame …  │ https://m.media-amazon.com/images/I/51ceQN317LL.jpg      │\n",
       "│       8201 │ B00QT0JGZ0  │ Tattle Tea Black Tea, Assam,…  │ https://m.media-amazon.com/images/I/41+OsJ7hmsL.jpg      │\n",
       "│       8202 │ B0BHWD8SMP  │ TANISA Fruit Seasoning – Vie…  │ https://m.media-amazon.com/images/I/41N7RIfvPWL.jpg      │\n",
       "│         ·  │     ·       │               ·                │                          ·                               │\n",
       "│         ·  │     ·       │               ·                │                          ·                               │\n",
       "│         ·  │     ·       │               ·                │                          ·                               │\n",
       "│      55080 │ B0009WFSZQ  │ Bandai Hobby #14 Strike Free…  │ https://m.media-amazon.com/images/I/51nT4k7fiZL._AC_.jpg │\n",
       "│      55081 │ B00N3SRV5I  │ FloraCraft FLORS226 Flora Cr…  │ https://m.media-amazon.com/images/I/51AaBqT7ccL._AC_.jpg │\n",
       "│      55082 │ B07B956ZXV  │ 10pcs 25cm/9.8 inch Tiny Chu…  │ https://m.media-amazon.com/images/I/41iu+kezY2L._AC_.jpg │\n",
       "│      55083 │ B001538KWQ  │ Miyuki Delica Seed Beads 11/…  │ https://m.media-amazon.com/images/I/61J32qOFGNL._AC_.jpg │\n",
       "│      55084 │ B01M5K6IWP  │ Pack of 3 North Carolina Sta…  │ https://m.media-amazon.com/images/I/31KQ8Zzec4L._AC_.jpg │\n",
       "│      55085 │ B008PIC05W  │ New England Patriots Riddell…  │ https://m.media-amazon.com/images/I/414LR2BgTPL._AC_.jpg │\n",
       "│      55086 │ B078X8CFCY  │ Bio Hazard Black & Yellow Pa…  │ https://m.media-amazon.com/images/I/51aausNr8NL._AC_.jpg │\n",
       "│      55087 │ B072N5BK4B  │ Iumer 11-color high-light ey…  │ https://m.media-amazon.com/images/I/51rPS8uxgcL._AC_.jpg │\n",
       "│      55088 │ B088JVW197  │ KEILEOHO 400 PCS 15.5 Inch N…  │ https://m.media-amazon.com/images/I/51nL8dQ8CTL._AC_.jpg │\n",
       "│      55089 │ B07QX8BRP2  │ 2 Pack 28 Slots Diamond Pain…  │ https://m.media-amazon.com/images/I/31-cIcgWrWL._AC_.jpg │\n",
       "├────────────┴─────────────┴────────────────────────────────┴──────────────────────────────────────────────────────────┤\n",
       "│ ? rows (>9999 rows, 20 shown)                                                                              4 columns │\n",
       "└──────────────────────────────────────────────────────────────────────────────────────────────────────────────────────┘"
      ]
     },
     "execution_count": 8,
     "metadata": {},
     "output_type": "execute_result"
    }
   ],
   "source": [
    "duck.query(\"select * from products\")"
   ]
  },
  {
   "cell_type": "code",
   "execution_count": null,
   "metadata": {},
   "outputs": [],
   "source": []
  },
  {
   "cell_type": "code",
   "execution_count": null,
   "metadata": {},
   "outputs": [],
   "source": []
  },
  {
   "cell_type": "code",
   "execution_count": null,
   "metadata": {},
   "outputs": [],
   "source": [
    "duck.query(\"\"\"\n",
    "    select\n",
    "        parent_asin\n",
    "        , count(*) as cnt\n",
    "    from items\n",
    "    group by parent_asin\n",
    "    order by cnt desc\n",
    "\"\"\")"
   ]
  },
  {
   "cell_type": "code",
   "execution_count": null,
   "metadata": {},
   "outputs": [],
   "source": []
  },
  {
   "cell_type": "code",
   "execution_count": null,
   "metadata": {},
   "outputs": [],
   "source": []
  },
  {
   "cell_type": "code",
   "execution_count": null,
   "metadata": {},
   "outputs": [],
   "source": []
  },
  {
   "cell_type": "code",
   "execution_count": null,
   "metadata": {},
   "outputs": [],
   "source": []
  },
  {
   "cell_type": "code",
   "execution_count": null,
   "metadata": {},
   "outputs": [],
   "source": []
  },
  {
   "cell_type": "code",
   "execution_count": null,
   "metadata": {},
   "outputs": [],
   "source": []
  },
  {
   "cell_type": "code",
   "execution_count": null,
   "metadata": {},
   "outputs": [],
   "source": []
  },
  {
   "cell_type": "code",
   "execution_count": null,
   "metadata": {},
   "outputs": [],
   "source": [
    "reviews = pl.scan_parquet(review_files)#.collect()"
   ]
  },
  {
   "cell_type": "code",
   "execution_count": null,
   "metadata": {},
   "outputs": [],
   "source": []
  },
  {
   "cell_type": "code",
   "execution_count": null,
   "metadata": {},
   "outputs": [],
   "source": [
    "users_cnt = reviews.select('user_id').collect().n_unique()\n",
    "users_cnt\n",
    "#pl.Series(name='id', values=np.arange(1, 10))"
   ]
  },
  {
   "cell_type": "code",
   "execution_count": null,
   "metadata": {},
   "outputs": [],
   "source": []
  },
  {
   "cell_type": "code",
   "execution_count": null,
   "metadata": {},
   "outputs": [],
   "source": [
    "reviews.with_columns(\n",
    "    pl.from_numpy(np.arange(1, pl.col('user_id').n_unique()))\n",
    ")"
   ]
  },
  {
   "cell_type": "code",
   "execution_count": null,
   "metadata": {},
   "outputs": [],
   "source": []
  },
  {
   "cell_type": "code",
   "execution_count": null,
   "metadata": {},
   "outputs": [],
   "source": [
    "users = reviews.select(pl.col('user_id')).unique().collect().to_pandas().reset_index()"
   ]
  },
  {
   "cell_type": "code",
   "execution_count": null,
   "metadata": {},
   "outputs": [],
   "source": []
  },
  {
   "cell_type": "code",
   "execution_count": null,
   "metadata": {},
   "outputs": [],
   "source": []
  },
  {
   "cell_type": "code",
   "execution_count": null,
   "metadata": {},
   "outputs": [],
   "source": [
    "reviews"
   ]
  },
  {
   "cell_type": "code",
   "execution_count": null,
   "metadata": {},
   "outputs": [],
   "source": [
    "reviews['user_id'].n_unique()"
   ]
  },
  {
   "cell_type": "code",
   "execution_count": null,
   "metadata": {},
   "outputs": [],
   "source": [
    "reviews['user_id'].to_pandas().reset_index()"
   ]
  },
  {
   "cell_type": "code",
   "execution_count": null,
   "metadata": {},
   "outputs": [],
   "source": []
  },
  {
   "cell_type": "code",
   "execution_count": null,
   "metadata": {},
   "outputs": [],
   "source": []
  },
  {
   "cell_type": "code",
   "execution_count": null,
   "metadata": {},
   "outputs": [],
   "source": [
    "del reviews"
   ]
  },
  {
   "cell_type": "code",
   "execution_count": null,
   "metadata": {},
   "outputs": [],
   "source": [
    "items = pd.concat(list(map(\n",
    "    lambda x: pd.read_parquet(x),\n",
    "    meta_files\n",
    ")), ignore_index=True)"
   ]
  },
  {
   "cell_type": "code",
   "execution_count": null,
   "metadata": {},
   "outputs": [],
   "source": []
  },
  {
   "cell_type": "code",
   "execution_count": null,
   "metadata": {},
   "outputs": [],
   "source": [
    "reviews.estimated_size('gb')"
   ]
  },
  {
   "cell_type": "code",
   "execution_count": null,
   "metadata": {},
   "outputs": [],
   "source": [
    "reviews"
   ]
  },
  {
   "cell_type": "code",
   "execution_count": null,
   "metadata": {},
   "outputs": [],
   "source": []
  },
  {
   "cell_type": "code",
   "execution_count": null,
   "metadata": {},
   "outputs": [],
   "source": []
  }
 ],
 "metadata": {
  "kernelspec": {
   "display_name": "env_1",
   "language": "python",
   "name": "python3"
  },
  "language_info": {
   "codemirror_mode": {
    "name": "ipython",
    "version": 3
   },
   "file_extension": ".py",
   "mimetype": "text/x-python",
   "name": "python",
   "nbconvert_exporter": "python",
   "pygments_lexer": "ipython3",
   "version": "3.11.4"
  }
 },
 "nbformat": 4,
 "nbformat_minor": 2
}
